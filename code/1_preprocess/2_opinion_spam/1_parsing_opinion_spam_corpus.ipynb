{
 "cells": [
  {
   "cell_type": "code",
   "execution_count": 2,
   "metadata": {
    "collapsed": true
   },
   "outputs": [],
   "source": [
    "import pandas as pd\n",
    "import numpy as np\n",
    "import os"
   ]
  },
  {
   "cell_type": "code",
   "execution_count": 20,
   "metadata": {},
   "outputs": [
    {
     "name": "stdout",
     "output_type": "stream",
     "text": [
      ".DS_Store\n",
      "deceptive_from_MTurk\n",
      "fold2\n",
      "fold5\n",
      "fold4\n",
      "fold3\n",
      ".DS_Store\n",
      "fold1\n",
      "truthful_from_TripAdvisor\n",
      "fold2\n",
      "fold5\n",
      "fold4\n",
      "fold3\n",
      ".DS_Store\n",
      "fold1\n",
      ".DS_Store\n",
      "deceptive_from_MTurk\n",
      "fold2\n",
      "fold5\n",
      "fold4\n",
      "fold3\n",
      ".DS_Store\n",
      "fold1\n",
      "truthful_from_Web\n",
      "fold2\n",
      "fold5\n",
      "fold4\n",
      "fold3\n",
      ".DS_Store\n",
      "fold1\n"
     ]
    }
   ],
   "source": [
    "reviews = []\n",
    "labels = []\n",
    "for source_folder in os.listdir(\"positive_polarity/\"):\n",
    "    print(source_folder)\n",
    "    dir_name1 = \"positive_polarity/\" + source_folder\n",
    "    if source_folder == '.DS_Store':\n",
    "        continue\n",
    "    for fold in os.listdir(dir_name1):\n",
    "        print(fold)\n",
    "        dir_name2 = dir_name1 + \"/\" + fold\n",
    "        if fold == '.DS_Store':\n",
    "            continue\n",
    "        for txt_file in os.listdir(dir_name2):\n",
    "            if txt_file == '.DS_Store':\n",
    "                continue\n",
    "            final_dir_name = dir_name2 + \"/\" + txt_file\n",
    "            f = open(final_dir_name, \"r\")\n",
    "            reviews.append(f.read())\n",
    "            if txt_file[0] == \"t\":\n",
    "                labels.append(0)\n",
    "            elif txt_file[0] == \"d\":\n",
    "                labels.append(1)\n",
    "\n",
    "for source_folder in os.listdir(\"negative_polarity/\"):\n",
    "    print(source_folder)\n",
    "    dir_name1 = \"negative_polarity/\" + source_folder\n",
    "    if source_folder == '.DS_Store':\n",
    "        continue\n",
    "    for fold in os.listdir(dir_name1):\n",
    "        print(fold)\n",
    "        dir_name2 = dir_name1 + \"/\" + fold\n",
    "        if fold == '.DS_Store':\n",
    "            continue\n",
    "        for txt_file in os.listdir(dir_name2):\n",
    "            if txt_file == '.DS_Store':\n",
    "                continue\n",
    "            final_dir_name = dir_name2 + \"/\" + txt_file\n",
    "            f = open(final_dir_name, \"r\")\n",
    "            reviews.append(f.read())\n",
    "            if txt_file[0] == \"t\":\n",
    "                labels.append(0)\n",
    "            elif txt_file[0] == \"d\":\n",
    "                labels.append(1)"
   ]
  },
  {
   "cell_type": "code",
   "execution_count": 21,
   "metadata": {},
   "outputs": [
    {
     "name": "stdout",
     "output_type": "stream",
     "text": [
      "800 800\n"
     ]
    }
   ],
   "source": [
    "n_1s, n_0s = 0, 0\n",
    "for label in labels:\n",
    "    if label == 1:\n",
    "        n_1s +=1\n",
    "    else:\n",
    "        n_0s += 1\n",
    "print(n_1s, n_0s)"
   ]
  },
  {
   "cell_type": "code",
   "execution_count": 24,
   "metadata": {},
   "outputs": [
    {
     "data": {
      "text/html": [
       "<div>\n",
       "<style>\n",
       "    .dataframe thead tr:only-child th {\n",
       "        text-align: right;\n",
       "    }\n",
       "\n",
       "    .dataframe thead th {\n",
       "        text-align: left;\n",
       "    }\n",
       "\n",
       "    .dataframe tbody tr th {\n",
       "        vertical-align: top;\n",
       "    }\n",
       "</style>\n",
       "<table border=\"1\" class=\"dataframe\">\n",
       "  <thead>\n",
       "    <tr style=\"text-align: right;\">\n",
       "      <th></th>\n",
       "      <th>fakeLabel</th>\n",
       "      <th>reviewText</th>\n",
       "    </tr>\n",
       "  </thead>\n",
       "  <tbody>\n",
       "    <tr>\n",
       "      <th>0</th>\n",
       "      <td>1</td>\n",
       "      <td>My husband and I stayed at this hotel the week...</td>\n",
       "    </tr>\n",
       "    <tr>\n",
       "      <th>1</th>\n",
       "      <td>0</td>\n",
       "      <td>Not a good start when the front desk isn't wil...</td>\n",
       "    </tr>\n",
       "    <tr>\n",
       "      <th>2</th>\n",
       "      <td>0</td>\n",
       "      <td>This was our third trip to Chicago this year (...</td>\n",
       "    </tr>\n",
       "    <tr>\n",
       "      <th>3</th>\n",
       "      <td>0</td>\n",
       "      <td>I took the wife and kids to Chicago for one la...</td>\n",
       "    </tr>\n",
       "    <tr>\n",
       "      <th>4</th>\n",
       "      <td>1</td>\n",
       "      <td>I never thought I'd be able to stay at a hotel...</td>\n",
       "    </tr>\n",
       "  </tbody>\n",
       "</table>\n",
       "</div>"
      ],
      "text/plain": [
       "   fakeLabel                                         reviewText\n",
       "0          1  My husband and I stayed at this hotel the week...\n",
       "1          0  Not a good start when the front desk isn't wil...\n",
       "2          0  This was our third trip to Chicago this year (...\n",
       "3          0  I took the wife and kids to Chicago for one la...\n",
       "4          1  I never thought I'd be able to stay at a hotel..."
      ]
     },
     "execution_count": 24,
     "metadata": {},
     "output_type": "execute_result"
    }
   ],
   "source": [
    "df = pd.DataFrame.from_dict({\"reviewText\": reviews, \"fakeLabel\": labels})\n",
    "df = df.sample(frac=1).reset_index(drop=True)\n",
    "df.head()"
   ]
  },
  {
   "cell_type": "code",
   "execution_count": 25,
   "metadata": {
    "collapsed": true
   },
   "outputs": [],
   "source": [
    "df.to_csv(\"opinion_spam_corpus.csv\")"
   ]
  },
  {
   "cell_type": "code",
   "execution_count": null,
   "metadata": {
    "collapsed": true
   },
   "outputs": [],
   "source": []
  }
 ],
 "metadata": {
  "kernelspec": {
   "display_name": "Python 3",
   "language": "python",
   "name": "python3"
  },
  "language_info": {
   "codemirror_mode": {
    "name": "ipython",
    "version": 3
   },
   "file_extension": ".py",
   "mimetype": "text/x-python",
   "name": "python",
   "nbconvert_exporter": "python",
   "pygments_lexer": "ipython3",
   "version": "3.6.3"
  }
 },
 "nbformat": 4,
 "nbformat_minor": 2
}
