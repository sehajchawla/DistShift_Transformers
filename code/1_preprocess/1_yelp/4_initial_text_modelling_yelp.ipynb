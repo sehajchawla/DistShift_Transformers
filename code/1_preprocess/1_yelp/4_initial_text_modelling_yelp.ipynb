{
 "cells": [
  {
   "cell_type": "markdown",
   "metadata": {},
   "source": [
    "# Text Modelling\n",
    "\n",
    "This notebook starts from the raw feature of the review text and creates predictions for whether a review is fake or not only given the review text. There are three methods proposed here:\n",
    "1. Using vectorised text as an input to a Bidirectional LSTM \n",
    "2. Using vectorised text as an input to a Feed Forward Neural Network\n",
    "3. Using pretrained BERT (uncased base) as embeddings and input into FFNN\n",
    "\n",
    "The first two methods have been completed. The third, and perhaps most promising method, is still running remotely as of now. The estimated time of completion for the training is past the deadline for Milestone 1, and as such hasn't been included in the codebase as yet.\n",
    "\n",
    "After completing training and predicting using these models, we use the model's output as a feature combined with the metadata to make predictions in the next notebook (Notebook 5)."
   ]
  },
  {
   "cell_type": "markdown",
   "metadata": {},
   "source": [
    "**Environment setup**"
   ]
  },
  {
   "cell_type": "code",
   "execution_count": 1,
   "metadata": {
    "colab": {
     "base_uri": "https://localhost:8080/"
    },
    "id": "hS8o8Oz5D7AY",
    "outputId": "1f38a962-ca51-4994-e460-79f9d45a5dee"
   },
   "outputs": [
    {
     "name": "stdout",
     "output_type": "stream",
     "text": [
      "Collecting transformers==4.4.1\n",
      "\u001b[?25l  Downloading https://files.pythonhosted.org/packages/2c/d8/5144b0712f7f82229a8da5983a8fbb8d30cec5fbd5f8d12ffe1854dcea67/transformers-4.4.1-py3-none-any.whl (2.1MB)\n",
      "\u001b[K     |████████████████████████████████| 2.1MB 5.5MB/s \n",
      "\u001b[?25hCollecting sacremoses\n",
      "\u001b[?25l  Downloading https://files.pythonhosted.org/packages/08/cd/342e584ee544d044fb573ae697404ce22ede086c9e87ce5960772084cad0/sacremoses-0.0.44.tar.gz (862kB)\n",
      "\u001b[K     |████████████████████████████████| 870kB 24.0MB/s \n",
      "\u001b[?25hRequirement already satisfied: numpy>=1.17 in /usr/local/lib/python3.7/dist-packages (from transformers==4.4.1) (1.19.5)\n",
      "Requirement already satisfied: requests in /usr/local/lib/python3.7/dist-packages (from transformers==4.4.1) (2.23.0)\n",
      "Requirement already satisfied: tqdm>=4.27 in /usr/local/lib/python3.7/dist-packages (from transformers==4.4.1) (4.41.1)\n",
      "Requirement already satisfied: filelock in /usr/local/lib/python3.7/dist-packages (from transformers==4.4.1) (3.0.12)\n",
      "Requirement already satisfied: packaging in /usr/local/lib/python3.7/dist-packages (from transformers==4.4.1) (20.9)\n",
      "Collecting tokenizers<0.11,>=0.10.1\n",
      "\u001b[?25l  Downloading https://files.pythonhosted.org/packages/ae/04/5b870f26a858552025a62f1649c20d29d2672c02ff3c3fb4c688ca46467a/tokenizers-0.10.2-cp37-cp37m-manylinux2010_x86_64.whl (3.3MB)\n",
      "\u001b[K     |████████████████████████████████| 3.3MB 30.4MB/s \n",
      "\u001b[?25hRequirement already satisfied: importlib-metadata; python_version < \"3.8\" in /usr/local/lib/python3.7/dist-packages (from transformers==4.4.1) (3.8.1)\n",
      "Requirement already satisfied: regex!=2019.12.17 in /usr/local/lib/python3.7/dist-packages (from transformers==4.4.1) (2019.12.20)\n",
      "Requirement already satisfied: six in /usr/local/lib/python3.7/dist-packages (from sacremoses->transformers==4.4.1) (1.15.0)\n",
      "Requirement already satisfied: click in /usr/local/lib/python3.7/dist-packages (from sacremoses->transformers==4.4.1) (7.1.2)\n",
      "Requirement already satisfied: joblib in /usr/local/lib/python3.7/dist-packages (from sacremoses->transformers==4.4.1) (1.0.1)\n",
      "Requirement already satisfied: certifi>=2017.4.17 in /usr/local/lib/python3.7/dist-packages (from requests->transformers==4.4.1) (2020.12.5)\n",
      "Requirement already satisfied: urllib3!=1.25.0,!=1.25.1,<1.26,>=1.21.1 in /usr/local/lib/python3.7/dist-packages (from requests->transformers==4.4.1) (1.24.3)\n",
      "Requirement already satisfied: chardet<4,>=3.0.2 in /usr/local/lib/python3.7/dist-packages (from requests->transformers==4.4.1) (3.0.4)\n",
      "Requirement already satisfied: idna<3,>=2.5 in /usr/local/lib/python3.7/dist-packages (from requests->transformers==4.4.1) (2.10)\n",
      "Requirement already satisfied: pyparsing>=2.0.2 in /usr/local/lib/python3.7/dist-packages (from packaging->transformers==4.4.1) (2.4.7)\n",
      "Requirement already satisfied: typing-extensions>=3.6.4; python_version < \"3.8\" in /usr/local/lib/python3.7/dist-packages (from importlib-metadata; python_version < \"3.8\"->transformers==4.4.1) (3.7.4.3)\n",
      "Requirement already satisfied: zipp>=0.5 in /usr/local/lib/python3.7/dist-packages (from importlib-metadata; python_version < \"3.8\"->transformers==4.4.1) (3.4.1)\n",
      "Building wheels for collected packages: sacremoses\n",
      "  Building wheel for sacremoses (setup.py) ... \u001b[?25l\u001b[?25hdone\n",
      "  Created wheel for sacremoses: filename=sacremoses-0.0.44-cp37-none-any.whl size=886084 sha256=aa782022448b5b4e5caf92086772ff1bd97a01ccd0660a9926e2beed37d76207\n",
      "  Stored in directory: /root/.cache/pip/wheels/3e/fb/c0/13ab4d63d537658f448366744654323077c4d90069b6512f3c\n",
      "Successfully built sacremoses\n",
      "Installing collected packages: sacremoses, tokenizers, transformers\n",
      "Successfully installed sacremoses-0.0.44 tokenizers-0.10.2 transformers-4.4.1\n"
     ]
    }
   ],
   "source": [
    "!pip3 install transformers==4.4.1  # This is used for BERT"
   ]
  },
  {
   "cell_type": "code",
   "execution_count": 2,
   "metadata": {
    "collapsed": true,
    "id": "mEGaeRiQD6pg"
   },
   "outputs": [],
   "source": [
    "# import the necessary libraries\n",
    "import os \n",
    "os.environ['TF_CPP_MIN_LOG_LEVEL']='2' #  Trying to reduce tensorflow warnings\n",
    "import re\n",
    "import math\n",
    "import string\n",
    "import time\n",
    "import json\n",
    "import random\n",
    "import numpy as np\n",
    "import pandas as pd\n",
    "import nltk\n",
    "import tensorflow as tf\n",
    "import matplotlib.pyplot as plt\n",
    "import matplotlib.cm as cm\n",
    "\n",
    "# useful structures and functions for experiments \n",
    "from time import sleep\n",
    "from collections import defaultdict\n",
    "from glob import glob\n",
    "\n",
    "# specific machine learning functionality\n",
    "from nltk.tokenize import word_tokenize, sent_tokenize\n",
    "from nltk.corpus import stopwords \n",
    "from nltk.tokenize import RegexpTokenizer\n",
    "from tensorflow import keras\n",
    "from tensorflow.keras.models import Model, Sequential\n",
    "from tensorflow.keras.layers.experimental.preprocessing import TextVectorization\n",
    "from tensorflow.keras.utils import to_categorical\n",
    "from tensorflow.python.keras import backend as K\n",
    "from tensorflow.python.keras.utils.layer_utils import count_params\n",
    "from sklearn.model_selection import train_test_split\n",
    "from sklearn import manifold\n",
    "from sklearn.metrics.pairwise import cosine_similarity\n",
    "from sklearn.metrics import f1_score, confusion_matrix\n",
    "from transformers import BertTokenizer, TFBertForSequenceClassification, BertConfig\n",
    "from transformers import GPT2Tokenizer, TFGPT2LMHeadModel"
   ]
  },
  {
   "cell_type": "markdown",
   "metadata": {},
   "source": [
    "**Data read and processing**"
   ]
  },
  {
   "cell_type": "markdown",
   "metadata": {},
   "source": [
    "Reading in the processed data from Notebook 2."
   ]
  },
  {
   "cell_type": "code",
   "execution_count": 3,
   "metadata": {
    "colab": {
     "base_uri": "https://localhost:8080/",
     "height": 204
    },
    "id": "7CdDPrOUEXQa",
    "outputId": "39cbede6-19a3-4fc4-c16b-18f9d504d157"
   },
   "outputs": [
    {
     "data": {
      "text/html": [
       "<div>\n",
       "<style scoped>\n",
       "    .dataframe tbody tr th:only-of-type {\n",
       "        vertical-align: middle;\n",
       "    }\n",
       "\n",
       "    .dataframe tbody tr th {\n",
       "        vertical-align: top;\n",
       "    }\n",
       "\n",
       "    .dataframe thead th {\n",
       "        text-align: right;\n",
       "    }\n",
       "</style>\n",
       "<table border=\"1\" class=\"dataframe\">\n",
       "  <thead>\n",
       "    <tr style=\"text-align: right;\">\n",
       "      <th></th>\n",
       "      <th>Unnamed: 0</th>\n",
       "      <th>ID</th>\n",
       "      <th>date</th>\n",
       "      <th>restaurantID</th>\n",
       "      <th>userID</th>\n",
       "      <th>reviewText</th>\n",
       "      <th>restaurant</th>\n",
       "      <th>fakeLabel</th>\n",
       "      <th>rating</th>\n",
       "    </tr>\n",
       "  </thead>\n",
       "  <tbody>\n",
       "    <tr>\n",
       "      <th>0</th>\n",
       "      <td>1</td>\n",
       "      <td>0.0</td>\n",
       "      <td>2014-11-16</td>\n",
       "      <td>0</td>\n",
       "      <td>5044.0</td>\n",
       "      <td>Drinks were bad, the hot chocolate was watered...</td>\n",
       "      <td>Toast</td>\n",
       "      <td>-1</td>\n",
       "      <td>1</td>\n",
       "    </tr>\n",
       "    <tr>\n",
       "      <th>1</th>\n",
       "      <td>2</td>\n",
       "      <td>1.0</td>\n",
       "      <td>2014-09-08</td>\n",
       "      <td>0</td>\n",
       "      <td>5045.0</td>\n",
       "      <td>This was the worst experience I've ever had a ...</td>\n",
       "      <td>Toast</td>\n",
       "      <td>-1</td>\n",
       "      <td>1</td>\n",
       "    </tr>\n",
       "    <tr>\n",
       "      <th>2</th>\n",
       "      <td>3</td>\n",
       "      <td>2.0</td>\n",
       "      <td>2013-10-06</td>\n",
       "      <td>0</td>\n",
       "      <td>5046.0</td>\n",
       "      <td>This is located on the site of the old Spruce ...</td>\n",
       "      <td>Toast</td>\n",
       "      <td>-1</td>\n",
       "      <td>3</td>\n",
       "    </tr>\n",
       "    <tr>\n",
       "      <th>3</th>\n",
       "      <td>4</td>\n",
       "      <td>3.0</td>\n",
       "      <td>2014-11-30</td>\n",
       "      <td>0</td>\n",
       "      <td>5047.0</td>\n",
       "      <td>I enjoyed coffee and breakfast twice at Toast ...</td>\n",
       "      <td>Toast</td>\n",
       "      <td>-1</td>\n",
       "      <td>5</td>\n",
       "    </tr>\n",
       "    <tr>\n",
       "      <th>4</th>\n",
       "      <td>5</td>\n",
       "      <td>4.0</td>\n",
       "      <td>2014-08-28</td>\n",
       "      <td>0</td>\n",
       "      <td>5048.0</td>\n",
       "      <td>I love Toast! The food choices are fantastic -...</td>\n",
       "      <td>Toast</td>\n",
       "      <td>-1</td>\n",
       "      <td>5</td>\n",
       "    </tr>\n",
       "  </tbody>\n",
       "</table>\n",
       "</div>"
      ],
      "text/plain": [
       "   Unnamed: 0   ID        date  ...  restaurant  fakeLabel rating\n",
       "0           1  0.0  2014-11-16  ...       Toast         -1      1\n",
       "1           2  1.0  2014-09-08  ...       Toast         -1      1\n",
       "2           3  2.0  2013-10-06  ...       Toast         -1      3\n",
       "3           4  3.0  2014-11-30  ...       Toast         -1      5\n",
       "4           5  4.0  2014-08-28  ...       Toast         -1      5\n",
       "\n",
       "[5 rows x 9 columns]"
      ]
     },
     "execution_count": 3,
     "metadata": {
      "tags": []
     },
     "output_type": "execute_result"
    }
   ],
   "source": [
    "df_data_all_cols = pd.read_csv('/content/drive/MyDrive/Colab Notebooks/6862_project/yelp_processed.csv', encoding=\"ISO-8859-1\")\n",
    "df_data_all_cols.head()"
   ]
  },
  {
   "cell_type": "markdown",
   "metadata": {},
   "source": [
    "Filtering out only the two relevant columns for this notebook - the review text as the input and the fake label as the target."
   ]
  },
  {
   "cell_type": "code",
   "execution_count": 4,
   "metadata": {
    "colab": {
     "base_uri": "https://localhost:8080/",
     "height": 204
    },
    "id": "TdMW9UtuEWxQ",
    "outputId": "401a8323-19d0-4201-9057-ef3f155806dd"
   },
   "outputs": [
    {
     "data": {
      "text/html": [
       "<div>\n",
       "<style scoped>\n",
       "    .dataframe tbody tr th:only-of-type {\n",
       "        vertical-align: middle;\n",
       "    }\n",
       "\n",
       "    .dataframe tbody tr th {\n",
       "        vertical-align: top;\n",
       "    }\n",
       "\n",
       "    .dataframe thead th {\n",
       "        text-align: right;\n",
       "    }\n",
       "</style>\n",
       "<table border=\"1\" class=\"dataframe\">\n",
       "  <thead>\n",
       "    <tr style=\"text-align: right;\">\n",
       "      <th></th>\n",
       "      <th>reviewText</th>\n",
       "      <th>fakeLabel</th>\n",
       "    </tr>\n",
       "  </thead>\n",
       "  <tbody>\n",
       "    <tr>\n",
       "      <th>0</th>\n",
       "      <td>Drinks were bad, the hot chocolate was watered...</td>\n",
       "      <td>-1</td>\n",
       "    </tr>\n",
       "    <tr>\n",
       "      <th>1</th>\n",
       "      <td>This was the worst experience I've ever had a ...</td>\n",
       "      <td>-1</td>\n",
       "    </tr>\n",
       "    <tr>\n",
       "      <th>2</th>\n",
       "      <td>This is located on the site of the old Spruce ...</td>\n",
       "      <td>-1</td>\n",
       "    </tr>\n",
       "    <tr>\n",
       "      <th>3</th>\n",
       "      <td>I enjoyed coffee and breakfast twice at Toast ...</td>\n",
       "      <td>-1</td>\n",
       "    </tr>\n",
       "    <tr>\n",
       "      <th>4</th>\n",
       "      <td>I love Toast! The food choices are fantastic -...</td>\n",
       "      <td>-1</td>\n",
       "    </tr>\n",
       "  </tbody>\n",
       "</table>\n",
       "</div>"
      ],
      "text/plain": [
       "                                          reviewText  fakeLabel\n",
       "0  Drinks were bad, the hot chocolate was watered...         -1\n",
       "1  This was the worst experience I've ever had a ...         -1\n",
       "2  This is located on the site of the old Spruce ...         -1\n",
       "3  I enjoyed coffee and breakfast twice at Toast ...         -1\n",
       "4  I love Toast! The food choices are fantastic -...         -1"
      ]
     },
     "execution_count": 4,
     "metadata": {
      "tags": []
     },
     "output_type": "execute_result"
    }
   ],
   "source": [
    "df_data = df_data_all_cols[['reviewText', 'fakeLabel']]\n",
    "df_data.head()"
   ]
  },
  {
   "cell_type": "markdown",
   "metadata": {},
   "source": [
    "Changing the convention so that `fakeLabel` is 1 when we have a fake review and 0 otherwise."
   ]
  },
  {
   "cell_type": "code",
   "execution_count": 5,
   "metadata": {
    "colab": {
     "base_uri": "https://localhost:8080/",
     "height": 419
    },
    "id": "utBzrGBWEWTv",
    "outputId": "80faed8c-fbbd-4c81-f647-7b21981c9955"
   },
   "outputs": [
    {
     "data": {
      "text/html": [
       "<div>\n",
       "<style scoped>\n",
       "    .dataframe tbody tr th:only-of-type {\n",
       "        vertical-align: middle;\n",
       "    }\n",
       "\n",
       "    .dataframe tbody tr th {\n",
       "        vertical-align: top;\n",
       "    }\n",
       "\n",
       "    .dataframe thead th {\n",
       "        text-align: right;\n",
       "    }\n",
       "</style>\n",
       "<table border=\"1\" class=\"dataframe\">\n",
       "  <thead>\n",
       "    <tr style=\"text-align: right;\">\n",
       "      <th></th>\n",
       "      <th>reviewText</th>\n",
       "      <th>fakeLabel</th>\n",
       "    </tr>\n",
       "  </thead>\n",
       "  <tbody>\n",
       "    <tr>\n",
       "      <th>0</th>\n",
       "      <td>Drinks were bad, the hot chocolate was watered...</td>\n",
       "      <td>1</td>\n",
       "    </tr>\n",
       "    <tr>\n",
       "      <th>1</th>\n",
       "      <td>This was the worst experience I've ever had a ...</td>\n",
       "      <td>1</td>\n",
       "    </tr>\n",
       "    <tr>\n",
       "      <th>2</th>\n",
       "      <td>This is located on the site of the old Spruce ...</td>\n",
       "      <td>1</td>\n",
       "    </tr>\n",
       "    <tr>\n",
       "      <th>3</th>\n",
       "      <td>I enjoyed coffee and breakfast twice at Toast ...</td>\n",
       "      <td>1</td>\n",
       "    </tr>\n",
       "    <tr>\n",
       "      <th>4</th>\n",
       "      <td>I love Toast! The food choices are fantastic -...</td>\n",
       "      <td>1</td>\n",
       "    </tr>\n",
       "    <tr>\n",
       "      <th>...</th>\n",
       "      <td>...</td>\n",
       "      <td>...</td>\n",
       "    </tr>\n",
       "    <tr>\n",
       "      <th>608593</th>\n",
       "      <td>When I first moved to the area I must say I wa...</td>\n",
       "      <td>0</td>\n",
       "    </tr>\n",
       "    <tr>\n",
       "      <th>608594</th>\n",
       "      <td>Kind of pricey. I guess I expected a ridiculou...</td>\n",
       "      <td>0</td>\n",
       "    </tr>\n",
       "    <tr>\n",
       "      <th>608595</th>\n",
       "      <td>Stopped by this restaurant yesterday, we just ...</td>\n",
       "      <td>0</td>\n",
       "    </tr>\n",
       "    <tr>\n",
       "      <th>608596</th>\n",
       "      <td>Finally checked out The Best Subs in Claremont...</td>\n",
       "      <td>0</td>\n",
       "    </tr>\n",
       "    <tr>\n",
       "      <th>608597</th>\n",
       "      <td>Just got me some \"Best Subs\" and I gotta say, ...</td>\n",
       "      <td>0</td>\n",
       "    </tr>\n",
       "  </tbody>\n",
       "</table>\n",
       "<p>608598 rows × 2 columns</p>\n",
       "</div>"
      ],
      "text/plain": [
       "                                               reviewText  fakeLabel\n",
       "0       Drinks were bad, the hot chocolate was watered...          1\n",
       "1       This was the worst experience I've ever had a ...          1\n",
       "2       This is located on the site of the old Spruce ...          1\n",
       "3       I enjoyed coffee and breakfast twice at Toast ...          1\n",
       "4       I love Toast! The food choices are fantastic -...          1\n",
       "...                                                   ...        ...\n",
       "608593  When I first moved to the area I must say I wa...          0\n",
       "608594  Kind of pricey. I guess I expected a ridiculou...          0\n",
       "608595  Stopped by this restaurant yesterday, we just ...          0\n",
       "608596  Finally checked out The Best Subs in Claremont...          0\n",
       "608597  Just got me some \"Best Subs\" and I gotta say, ...          0\n",
       "\n",
       "[608598 rows x 2 columns]"
      ]
     },
     "execution_count": 5,
     "metadata": {
      "tags": []
     },
     "output_type": "execute_result"
    }
   ],
   "source": [
    "def refinefakeLabel(row):\n",
    "  # Changing the labels so that a fake review has label 1\n",
    "  if row['fakeLabel'] == -1:\n",
    "    return 1\n",
    "  else:\n",
    "    return 0\n",
    "\n",
    "df_data = df_data.dropna()\n",
    "df_data['fakeLabel'] = df_data.apply(refinefakeLabel, axis=1)\n",
    "df_data"
   ]
  },
  {
   "cell_type": "markdown",
   "metadata": {},
   "source": [
    "Exploring the data set to look at the number of values for each class."
   ]
  },
  {
   "cell_type": "code",
   "execution_count": 6,
   "metadata": {
    "colab": {
     "base_uri": "https://localhost:8080/"
    },
    "id": "BhFQlLPnIIOl",
    "outputId": "327fce36-e548-4b6d-fa78-6dd0273a8281"
   },
   "outputs": [
    {
     "name": "stdout",
     "output_type": "stream",
     "text": [
      "Number of 1s: 80466\n",
      "Number of 0s: 528132\n"
     ]
    }
   ],
   "source": [
    "num_1s = 0\n",
    "num_0s = 0\n",
    "for label in list(df_data['fakeLabel']):\n",
    "  if label == 1:\n",
    "    num_1s += 1\n",
    "  else:\n",
    "    num_0s += 1\n",
    "print(f\"Number of 1s: {num_1s}\")\n",
    "print(f\"Number of 0s: {num_0s}\")"
   ]
  },
  {
   "cell_type": "markdown",
   "metadata": {},
   "source": [
    "Imagining a naive model that predicts 0s for all reviews. This is, of course, not ideal, however, because we simply don't do the task of detetecting fake reviews in this case. "
   ]
  },
  {
   "cell_type": "code",
   "execution_count": 7,
   "metadata": {
    "colab": {
     "base_uri": "https://localhost:8080/"
    },
    "id": "XbgjJRNpIbhg",
    "outputId": "e6ba0e0a-4d23-4a81-b2f3-07d6bdf61ada"
   },
   "outputs": [
    {
     "name": "stdout",
     "output_type": "stream",
     "text": [
      "Baseline accuracy: 0.8677846460224976\n"
     ]
    }
   ],
   "source": [
    "print(f\"Baseline accuracy: {num_0s/(num_1s + num_0s)}\")"
   ]
  },
  {
   "cell_type": "markdown",
   "metadata": {},
   "source": [
    "**Modelling**"
   ]
  },
  {
   "cell_type": "code",
   "execution_count": 8,
   "metadata": {
    "collapsed": true,
    "id": "eqtD4JPiD6BE"
   },
   "outputs": [],
   "source": [
    "# Function for standardizing text (used in preprocessing below)\n",
    "def standardize_text(input_text):\n",
    "    # Convert to lowercase\n",
    "    lowercase = tf.strings.lower(input_text)\n",
    "    # Remove HTML tags\n",
    "    stripped_html = tf.strings.regex_replace(lowercase, \"<br />\", \" \")\n",
    "    return tf.strings.regex_replace(\n",
    "      stripped_html, \"[%s]\" % re.escape(string.punctuation), \"\"\n",
    "    )"
   ]
  },
  {
   "cell_type": "code",
   "execution_count": 9,
   "metadata": {
    "collapsed": true,
    "id": "tSXRB7pMDM1K"
   },
   "outputs": [],
   "source": [
    "# Setting parameters here so that they don't need to be hard coded and we can be consistent\n",
    "VOCABULARY_SIZE = 15000\n",
    "SEQUENCE_SIZE = 64\n",
    "EMBEDDING_SIZE = 100"
   ]
  },
  {
   "cell_type": "code",
   "execution_count": 10,
   "metadata": {
    "collapsed": true,
    "id": "wQ0-HCu1GHp5"
   },
   "outputs": [],
   "source": [
    "# Initialize Text Vectorizer\n",
    "text_vectorizer = TextVectorization(\n",
    "    standardize=standardize_text,\n",
    "    max_tokens=VOCABULARY_SIZE,\n",
    "    output_mode=\"int\",\n",
    "    output_sequence_length=64,\n",
    ")"
   ]
  },
  {
   "cell_type": "code",
   "execution_count": 11,
   "metadata": {
    "colab": {
     "base_uri": "https://localhost:8080/"
    },
    "id": "KE4ThdckGJJ-",
    "outputId": "5885e9aa-877e-4693-9234-e18f26911d51"
   },
   "outputs": [
    {
     "name": "stdout",
     "output_type": "stream",
     "text": [
      "Execution time (mins) 0.9253041982650757\n",
      "Vocabulary Size: 15000\n"
     ]
    }
   ],
   "source": [
    "# Create the vocabulary of entire dataset\n",
    "text_data = tf.data.Dataset.from_tensor_slices(df_data['reviewText'].values)\n",
    "\n",
    "# Generate Text Vector\n",
    "start_time = time.time()\n",
    "text_vectorizer.adapt(text_data.batch(64))\n",
    "execution_time = (time.time() - start_time)/60.0\n",
    "print(\"Execution time (mins)\",execution_time)\n",
    "\n",
    "# Get Vocabulary\n",
    "vocabulary = text_vectorizer.get_vocabulary()\n",
    "vocabulary_size = len(vocabulary)\n",
    "print(\"Vocabulary Size:\",vocabulary_size)\n",
    "# Generate word index\n",
    "word_index = dict(zip(vocabulary, range(vocabulary_size)))"
   ]
  },
  {
   "cell_type": "code",
   "execution_count": 12,
   "metadata": {
    "collapsed": true,
    "id": "a9kmhqN5GRiG"
   },
   "outputs": [],
   "source": [
    "# Splitting the data into input, output, train, and test\n",
    "\n",
    "X = df_data['reviewText'].values\n",
    "y = df_data['fakeLabel'].values\n",
    "\n",
    "X_train, X_val, y_train, y_val = train_test_split(X, y, test_size=0.2, random_state=42)\n",
    "\n",
    "# Create TF Datasets\n",
    "train_data = tf.data.Dataset.from_tensor_slices((X_train, y_train))\n",
    "validation_data = tf.data.Dataset.from_tensor_slices((X_val, y_val))\n",
    "complete_data = tf.data.Dataset.from_tensor_slices((X, y))"
   ]
  },
  {
   "cell_type": "code",
   "execution_count": 13,
   "metadata": {
    "colab": {
     "base_uri": "https://localhost:8080/"
    },
    "id": "-z-rGRimGjVb",
    "outputId": "a53eb8b5-2377-48f5-ab8c-34291882c829"
   },
   "outputs": [
    {
     "name": "stdout",
     "output_type": "stream",
     "text": [
      "train_data <MapDataset shapes: ((None, 64), (None,)), types: (tf.int64, tf.int64)>\n",
      "validation_data <PrefetchDataset shapes: ((None, 64), (None,)), types: (tf.int64, tf.int64)>\n",
      "complete_data <PrefetchDataset shapes: ((None, 64), (None,)), types: (tf.int64, tf.int64)>\n"
     ]
    }
   ],
   "source": [
    "AUTOTUNE = tf.data.experimental.AUTOTUNE\n",
    "BATCH_SIZE = 32\n",
    "TRAIN_SHUFFLE_BUFFER_SIZE = len(X_train)\n",
    "VALIDATION_SHUFFLE_BUFFER_SIZE = len(X_val)\n",
    "\n",
    "# Vectorize Text\n",
    "def vectorize_text(text, label=None):\n",
    "    text = tf.expand_dims(text, -1)\n",
    "    text = text_vectorizer(text)\n",
    "    if label is None:\n",
    "        return text\n",
    "    else:\n",
    "        return text, label\n",
    "\n",
    "#############\n",
    "# Train data\n",
    "#############\n",
    "train_data = train_data.shuffle(buffer_size=TRAIN_SHUFFLE_BUFFER_SIZE)\n",
    "train_data = train_data.batch(BATCH_SIZE)\n",
    "train_data = train_data.map(vectorize_text)\n",
    "#train_data = train_data.prefetch(buffer_size=AUTOTUNE)\n",
    "\n",
    "##################\n",
    "# Validation data\n",
    "##################\n",
    "validation_data1 = validation_data.shuffle(buffer_size=TRAIN_SHUFFLE_BUFFER_SIZE)\n",
    "validation_data1 = validation_data1.batch(BATCH_SIZE)\n",
    "validation_data1 = validation_data1.map(vectorize_text, num_parallel_calls=AUTOTUNE)\n",
    "validation_data1 = validation_data1.prefetch(buffer_size=VALIDATION_SHUFFLE_BUFFER_SIZE)\n",
    "\n",
    "##################\n",
    "# Complete data\n",
    "##################\n",
    "complete_data = complete_data.batch(BATCH_SIZE)\n",
    "complete_data = complete_data.map(vectorize_text, num_parallel_calls=AUTOTUNE)\n",
    "complete_data = complete_data.prefetch(buffer_size=VALIDATION_SHUFFLE_BUFFER_SIZE)\n",
    "\n",
    "\n",
    "print(\"train_data\",train_data)\n",
    "print(\"validation_data\",validation_data1)\n",
    "print(\"complete_data\",complete_data)"
   ]
  },
  {
   "cell_type": "markdown",
   "metadata": {},
   "source": [
    "**MODEL 1: LSTM**"
   ]
  },
  {
   "cell_type": "code",
   "execution_count": 14,
   "metadata": {
    "collapsed": true,
    "id": "VoS3KIIsOQ2y"
   },
   "outputs": [],
   "source": [
    "def build_lstm():\n",
    "\n",
    "    # Set the model name as\n",
    "    model_name = 'lstm_'+str(int(time.time()))\n",
    "\n",
    "    # Create a LSTM Model\n",
    "    model = tf.keras.models.Sequential(name=model_name)\n",
    "    model.add(tf.keras.Input(shape=(SEQUENCE_SIZE)))\n",
    "    model.add(tf.keras.layers.Embedding(input_dim=VOCABULARY_SIZE, output_dim=EMBEDDING_SIZE))\n",
    "    model.add(tf.keras.layers.Bidirectional(tf.keras.layers.LSTM(32)))\n",
    "    model.add(tf.keras.layers.Dense(256, activation=\"relu\"))\n",
    "    model.add(tf.keras.layers.Dropout(0.5))\n",
    "    model.add(tf.keras.layers.Dense(1,activation=\"sigmoid\"))\n",
    "\n",
    "    return model\n"
   ]
  },
  {
   "cell_type": "code",
   "execution_count": 15,
   "metadata": {
    "colab": {
     "base_uri": "https://localhost:8080/"
    },
    "id": "ht8OTxgFOVKy",
    "outputId": "75210b88-bd1d-4b88-dd21-fc97eaa3a684"
   },
   "outputs": [
    {
     "name": "stdout",
     "output_type": "stream",
     "text": [
      "Model: \"lstm_1617899423\"\n",
      "_________________________________________________________________\n",
      "Layer (type)                 Output Shape              Param #   \n",
      "=================================================================\n",
      "embedding (Embedding)        (None, 64, 100)           1500000   \n",
      "_________________________________________________________________\n",
      "bidirectional (Bidirectional (None, 64)                34048     \n",
      "_________________________________________________________________\n",
      "dense (Dense)                (None, 256)               16640     \n",
      "_________________________________________________________________\n",
      "dropout (Dropout)            (None, 256)               0         \n",
      "_________________________________________________________________\n",
      "dense_1 (Dense)              (None, 1)                 257       \n",
      "=================================================================\n",
      "Total params: 1,550,945\n",
      "Trainable params: 1,550,945\n",
      "Non-trainable params: 0\n",
      "_________________________________________________________________\n",
      "None\n",
      "Epoch 1/3\n",
      "15215/15215 [==============================] - 1085s 71ms/step - loss: 0.3755 - accuracy: 0.8674 - val_loss: 0.3521 - val_accuracy: 0.8679\n",
      "Epoch 2/3\n",
      "15215/15215 [==============================] - 1066s 70ms/step - loss: 0.3442 - accuracy: 0.8690 - val_loss: 0.3512 - val_accuracy: 0.8677\n",
      "Epoch 3/3\n",
      "15215/15215 [==============================] - 1072s 70ms/step - loss: 0.3370 - accuracy: 0.8700 - val_loss: 0.3532 - val_accuracy: 0.8676\n",
      "Training execution time (mins) 53.718046895662944\n"
     ]
    }
   ],
   "source": [
    "############################\n",
    "# Training Params\n",
    "############################\n",
    "learning_rate = 1e-4\n",
    "epochs = 3\n",
    "\n",
    "# Free up memory\n",
    "K.clear_session()\n",
    "\n",
    "# Build the model\n",
    "model2 = build_lstm()\n",
    "\n",
    "# Print the model architecture\n",
    "print(model2.summary())\n",
    "\n",
    "# Optimizer\n",
    "optimizer = keras.optimizers.Adam(lr=learning_rate)\n",
    "# Loss\n",
    "loss = keras.losses.binary_crossentropy\n",
    "\n",
    "# Compile\n",
    "model2.compile(loss=loss,\n",
    "                  optimizer=optimizer,\n",
    "                  metrics=['accuracy'])\n",
    "\n",
    "# Train model\n",
    "start_time = time.time()\n",
    "training_results = model2.fit(\n",
    "        train_data,\n",
    "        validation_data=validation_data1,\n",
    "        epochs=epochs, \n",
    "        verbose=1)\n",
    "execution_time = (time.time() - start_time)/60.0\n",
    "print(\"Training execution time (mins)\",execution_time)"
   ]
  },
  {
   "cell_type": "markdown",
   "metadata": {},
   "source": [
    "**Model evaluation**"
   ]
  },
  {
   "cell_type": "code",
   "execution_count": 16,
   "metadata": {
    "colab": {
     "base_uri": "https://localhost:8080/"
    },
    "id": "ChKoVNaIPCd4",
    "outputId": "2eac979d-16ef-491d-a6c6-7fe88f945cc0"
   },
   "outputs": [
    {
     "name": "stdout",
     "output_type": "stream",
     "text": [
      "F1 score for LSTM: 0.020225235578028043\n",
      "Confusion matrix for LSTM:\n",
      "[[104492   1070]\n",
      " [ 15982    176]]\n"
     ]
    }
   ],
   "source": [
    "# Evaluate the model on the validation data\n",
    "preds2 = model2.predict(validation_data1).flatten()\n",
    "ytrue = np.concatenate([y for x, y in validation_data1], axis=0)   \n",
    "print(f\"F1 score for LSTM: {f1_score(ytrue,preds2>0.5)}\")\n",
    "print(f\"Confusion matrix for LSTM:\")\n",
    "print(f\"{confusion_matrix(ytrue,preds2>0.5)}\")"
   ]
  },
  {
   "cell_type": "code",
   "execution_count": 17,
   "metadata": {
    "colab": {
     "base_uri": "https://localhost:8080/"
    },
    "id": "FDZLNohAPIII",
    "outputId": "c68e1220-f7c0-4fa1-9e73-d87f7bc91fc7"
   },
   "outputs": [
    {
     "name": "stdout",
     "output_type": "stream",
     "text": [
      "Precision score for LSTM: 0.14125200642054575\n",
      "Recall score for LSTM: 0.010892437182819657\n"
     ]
    }
   ],
   "source": [
    "conf = confusion_matrix(ytrue,preds2>0.5)\n",
    "tn, fp, tp, fn = conf[0][0], conf[0][1], conf[1][1], conf[1][0]\n",
    "print(f\"Precision score for LSTM: {tp / (tp + fp)}\")\n",
    "print(f\"Recall score for LSTM: {tp / (tp + fn)}\")"
   ]
  },
  {
   "cell_type": "code",
   "execution_count": 18,
   "metadata": {
    "colab": {
     "base_uri": "https://localhost:8080/"
    },
    "id": "okQ2DEC3j9_w",
    "outputId": "60a589a2-9b62-4d1e-8310-9aa0a7613f69"
   },
   "outputs": [
    {
     "name": "stdout",
     "output_type": "stream",
     "text": [
      "accuracy for LSTM: 0.8599079855405849\n"
     ]
    }
   ],
   "source": [
    "print(f\"accuracy for LSTM: {(tp + tn)/ (tp + tn + fn + fp)}\")"
   ]
  },
  {
   "cell_type": "markdown",
   "metadata": {},
   "source": [
    "This model is performing decently well, given that it has the limitation of not having great embeddings. BERT will definitel solve that issue. What we can say, however, is that 176 reviews were correctly classified as fake just with inofrmation from the text - which gives us hope that there is potential in this problem."
   ]
  },
  {
   "cell_type": "code",
   "execution_count": 19,
   "metadata": {
    "colab": {
     "base_uri": "https://localhost:8080/"
    },
    "id": "Lwc2oeLisPn7",
    "outputId": "a22192e2-6b39-436c-83b3-a3fcda36ea68"
   },
   "outputs": [
    {
     "name": "stdout",
     "output_type": "stream",
     "text": [
      "(608598, 1)\n"
     ]
    }
   ],
   "source": [
    "complete_preds2 = model2.predict(complete_data)\n",
    "print(complete_preds2.shape)"
   ]
  },
  {
   "cell_type": "code",
   "execution_count": 20,
   "metadata": {
    "collapsed": true,
    "id": "4FkAzGC9_jd1"
   },
   "outputs": [],
   "source": [
    "df_data_all_cols['lstm_predict_probas'] = complete_preds2"
   ]
  },
  {
   "cell_type": "markdown",
   "metadata": {},
   "source": [
    "**MODEL 2: FFNN**"
   ]
  },
  {
   "cell_type": "code",
   "execution_count": 21,
   "metadata": {
    "collapsed": true,
    "id": "uTfzxM3qGnci"
   },
   "outputs": [],
   "source": [
    "def build_ffnn():\n",
    "\n",
    "    # Set the model name as\n",
    "    model_name = 'ffnn_'+str(int(time.time()))\n",
    "\n",
    "    # Create a FFNN Model\n",
    "    model = tf.keras.models.Sequential(name=model_name)\n",
    "    model.add(tf.keras.Input(shape=(SEQUENCE_SIZE)))\n",
    "    model.add(tf.keras.layers.Embedding(input_dim=VOCABULARY_SIZE, output_dim=EMBEDDING_SIZE))\n",
    "    model.add(tf.keras.layers.Flatten())\n",
    "    model.add(tf.keras.layers.Dense(256, activation=\"relu\"))\n",
    "    model.add(tf.keras.layers.Dropout(0.5))\n",
    "    model.add(tf.keras.layers.Dense(1,activation=\"sigmoid\"))\n",
    "\n",
    "    return model\n"
   ]
  },
  {
   "cell_type": "code",
   "execution_count": 22,
   "metadata": {
    "colab": {
     "base_uri": "https://localhost:8080/"
    },
    "id": "gvbC5931Hlzi",
    "outputId": "2df9b560-720f-4af6-b727-2854fe024dc1"
   },
   "outputs": [
    {
     "name": "stdout",
     "output_type": "stream",
     "text": [
      "Model: \"ffnn_1617902905\"\n",
      "_________________________________________________________________\n",
      "Layer (type)                 Output Shape              Param #   \n",
      "=================================================================\n",
      "embedding (Embedding)        (None, 64, 100)           1500000   \n",
      "_________________________________________________________________\n",
      "flatten (Flatten)            (None, 6400)              0         \n",
      "_________________________________________________________________\n",
      "dense (Dense)                (None, 256)               1638656   \n",
      "_________________________________________________________________\n",
      "dropout (Dropout)            (None, 256)               0         \n",
      "_________________________________________________________________\n",
      "dense_1 (Dense)              (None, 1)                 257       \n",
      "=================================================================\n",
      "Total params: 3,138,913\n",
      "Trainable params: 3,138,913\n",
      "Non-trainable params: 0\n",
      "_________________________________________________________________\n",
      "None\n",
      "Epoch 1/4\n",
      "15215/15215 [==============================] - 544s 36ms/step - loss: 0.3790 - accuracy: 0.8664 - val_loss: 0.3727 - val_accuracy: 0.8673\n",
      "Epoch 2/4\n",
      "15215/15215 [==============================] - 542s 36ms/step - loss: 0.3609 - accuracy: 0.8677 - val_loss: 0.3668 - val_accuracy: 0.8674\n",
      "Epoch 3/4\n",
      "15215/15215 [==============================] - 541s 36ms/step - loss: 0.3394 - accuracy: 0.8709 - val_loss: 0.3895 - val_accuracy: 0.8663\n",
      "Epoch 4/4\n",
      "15215/15215 [==============================] - 540s 35ms/step - loss: 0.3126 - accuracy: 0.8758 - val_loss: 0.4101 - val_accuracy: 0.8659\n",
      "Training execution time (mins) 36.133088898658755\n"
     ]
    }
   ],
   "source": [
    "############################\n",
    "# Training Params\n",
    "############################\n",
    "learning_rate = 0.003\n",
    "epochs = 4\n",
    "\n",
    "# Free up memory\n",
    "K.clear_session()\n",
    "\n",
    "# Build the model\n",
    "model = build_ffnn()\n",
    "\n",
    "# Print the model architecture\n",
    "print(model.summary())\n",
    "\n",
    "# Optimizer\n",
    "optimizer = keras.optimizers.Adam(lr=learning_rate)\n",
    "# Loss\n",
    "loss = keras.losses.binary_crossentropy\n",
    "\n",
    "# Compile\n",
    "model.compile(loss=loss,\n",
    "                  optimizer=optimizer,\n",
    "                  metrics=['accuracy'])\n",
    "\n",
    "# Train model\n",
    "start_time = time.time()\n",
    "training_results = model.fit(\n",
    "        train_data,\n",
    "        validation_data=validation_data1,\n",
    "        epochs=epochs, \n",
    "        verbose=1)\n",
    "execution_time = (time.time() - start_time)/60.0\n",
    "print(\"Training execution time (mins)\",execution_time)"
   ]
  },
  {
   "cell_type": "code",
   "execution_count": 23,
   "metadata": {
    "colab": {
     "base_uri": "https://localhost:8080/"
    },
    "id": "mtOVlRR6OiDa",
    "outputId": "3c3a816e-25f0-49ff-f324-72805f11373d"
   },
   "outputs": [
    {
     "name": "stdout",
     "output_type": "stream",
     "text": [
      "F1 score for FFNN: 0.016900751792062477\n",
      "Confusion matrix for FFNN:\n",
      "[[104706    856]\n",
      " [ 16013    145]]\n"
     ]
    }
   ],
   "source": [
    "preds1 = model.predict(validation_data1).flatten()\n",
    "print(f\"F1 score for FFNN: {f1_score(ytrue,preds1>0.5)}\")\n",
    "print(f\"Confusion matrix for FFNN:\")\n",
    "print(f\"{confusion_matrix(ytrue,preds1>0.5)}\")"
   ]
  },
  {
   "cell_type": "code",
   "execution_count": 24,
   "metadata": {
    "colab": {
     "base_uri": "https://localhost:8080/"
    },
    "id": "Tke08Z_2Olpr",
    "outputId": "ba5c189d-00db-4699-9284-03c2586dbca3"
   },
   "outputs": [
    {
     "name": "stdout",
     "output_type": "stream",
     "text": [
      "Precision score for FFNN: 0.14485514485514486\n",
      "Recall score for FFNN: 0.008973882906300286\n",
      "accuracy for LSTM: 0.861411436082813\n"
     ]
    }
   ],
   "source": [
    "conf = confusion_matrix(ytrue,preds1>0.5)\n",
    "tn, fp, tp, fn = conf[0][0], conf[0][1], conf[1][1], conf[1][0]\n",
    "print(f\"Precision score for FFNN: {tp / (tp + fp)}\")\n",
    "print(f\"Recall score for FFNN: {tp / (tp + fn)}\")\n",
    "print(f\"accuracy for LSTM: {(tp + tn)/ (tp + tn + fn + fp)}\")"
   ]
  },
  {
   "cell_type": "markdown",
   "metadata": {},
   "source": [
    "Once again, the FFNN, also gives us hope with its results given its naive embedding scheme, and the fact that it still predicts 145 reviews as fake correctly. The False negative rate needs work, however."
   ]
  },
  {
   "cell_type": "code",
   "execution_count": 25,
   "metadata": {
    "colab": {
     "base_uri": "https://localhost:8080/"
    },
    "id": "j-jQOBduAYco",
    "outputId": "7f702bbe-f166-4214-994f-7305e4889cf2"
   },
   "outputs": [
    {
     "name": "stdout",
     "output_type": "stream",
     "text": [
      "(608598, 1)\n"
     ]
    }
   ],
   "source": [
    "complete_preds = model.predict(complete_data)\n",
    "print(complete_preds.shape)"
   ]
  },
  {
   "cell_type": "markdown",
   "metadata": {},
   "source": [
    "**Saving work**"
   ]
  },
  {
   "cell_type": "code",
   "execution_count": 26,
   "metadata": {
    "colab": {
     "base_uri": "https://localhost:8080/",
     "height": 1000
    },
    "id": "cgAd0RvuAbfW",
    "outputId": "7bffc49e-ad2f-44c0-c796-dda750997a0a"
   },
   "outputs": [
    {
     "data": {
      "text/html": [
       "<div>\n",
       "<style scoped>\n",
       "    .dataframe tbody tr th:only-of-type {\n",
       "        vertical-align: middle;\n",
       "    }\n",
       "\n",
       "    .dataframe tbody tr th {\n",
       "        vertical-align: top;\n",
       "    }\n",
       "\n",
       "    .dataframe thead th {\n",
       "        text-align: right;\n",
       "    }\n",
       "</style>\n",
       "<table border=\"1\" class=\"dataframe\">\n",
       "  <thead>\n",
       "    <tr style=\"text-align: right;\">\n",
       "      <th></th>\n",
       "      <th>Unnamed: 0</th>\n",
       "      <th>ID</th>\n",
       "      <th>date</th>\n",
       "      <th>restaurantID</th>\n",
       "      <th>userID</th>\n",
       "      <th>reviewText</th>\n",
       "      <th>restaurant</th>\n",
       "      <th>fakeLabel</th>\n",
       "      <th>rating</th>\n",
       "      <th>lstm_predict_probas</th>\n",
       "      <th>ffnn_predict_probas</th>\n",
       "    </tr>\n",
       "  </thead>\n",
       "  <tbody>\n",
       "    <tr>\n",
       "      <th>0</th>\n",
       "      <td>1</td>\n",
       "      <td>0.0</td>\n",
       "      <td>2014-11-16</td>\n",
       "      <td>0</td>\n",
       "      <td>5044.0</td>\n",
       "      <td>Drinks were bad, the hot chocolate was watered...</td>\n",
       "      <td>Toast</td>\n",
       "      <td>-1</td>\n",
       "      <td>1</td>\n",
       "      <td>0.226938</td>\n",
       "      <td>2.725078e-01</td>\n",
       "    </tr>\n",
       "    <tr>\n",
       "      <th>1</th>\n",
       "      <td>2</td>\n",
       "      <td>1.0</td>\n",
       "      <td>2014-09-08</td>\n",
       "      <td>0</td>\n",
       "      <td>5045.0</td>\n",
       "      <td>This was the worst experience I've ever had a ...</td>\n",
       "      <td>Toast</td>\n",
       "      <td>-1</td>\n",
       "      <td>1</td>\n",
       "      <td>0.419023</td>\n",
       "      <td>2.221830e-01</td>\n",
       "    </tr>\n",
       "    <tr>\n",
       "      <th>2</th>\n",
       "      <td>3</td>\n",
       "      <td>2.0</td>\n",
       "      <td>2013-10-06</td>\n",
       "      <td>0</td>\n",
       "      <td>5046.0</td>\n",
       "      <td>This is located on the site of the old Spruce ...</td>\n",
       "      <td>Toast</td>\n",
       "      <td>-1</td>\n",
       "      <td>3</td>\n",
       "      <td>0.318059</td>\n",
       "      <td>2.221830e-01</td>\n",
       "    </tr>\n",
       "    <tr>\n",
       "      <th>3</th>\n",
       "      <td>4</td>\n",
       "      <td>3.0</td>\n",
       "      <td>2014-11-30</td>\n",
       "      <td>0</td>\n",
       "      <td>5047.0</td>\n",
       "      <td>I enjoyed coffee and breakfast twice at Toast ...</td>\n",
       "      <td>Toast</td>\n",
       "      <td>-1</td>\n",
       "      <td>5</td>\n",
       "      <td>0.057116</td>\n",
       "      <td>2.221830e-01</td>\n",
       "    </tr>\n",
       "    <tr>\n",
       "      <th>4</th>\n",
       "      <td>5</td>\n",
       "      <td>4.0</td>\n",
       "      <td>2014-08-28</td>\n",
       "      <td>0</td>\n",
       "      <td>5048.0</td>\n",
       "      <td>I love Toast! The food choices are fantastic -...</td>\n",
       "      <td>Toast</td>\n",
       "      <td>-1</td>\n",
       "      <td>5</td>\n",
       "      <td>0.066041</td>\n",
       "      <td>2.147548e-01</td>\n",
       "    </tr>\n",
       "    <tr>\n",
       "      <th>...</th>\n",
       "      <td>...</td>\n",
       "      <td>...</td>\n",
       "      <td>...</td>\n",
       "      <td>...</td>\n",
       "      <td>...</td>\n",
       "      <td>...</td>\n",
       "      <td>...</td>\n",
       "      <td>...</td>\n",
       "      <td>...</td>\n",
       "      <td>...</td>\n",
       "      <td>...</td>\n",
       "    </tr>\n",
       "    <tr>\n",
       "      <th>608593</th>\n",
       "      <td>608594</td>\n",
       "      <td>608593.0</td>\n",
       "      <td>2013-01-20</td>\n",
       "      <td>5039</td>\n",
       "      <td>119664.0</td>\n",
       "      <td>When I first moved to the area I must say I wa...</td>\n",
       "      <td>Best Subs the</td>\n",
       "      <td>1</td>\n",
       "      <td>4</td>\n",
       "      <td>0.184477</td>\n",
       "      <td>1.052087e-01</td>\n",
       "    </tr>\n",
       "    <tr>\n",
       "      <th>608594</th>\n",
       "      <td>608595</td>\n",
       "      <td>608594.0</td>\n",
       "      <td>2012-11-12</td>\n",
       "      <td>5039</td>\n",
       "      <td>56277.0</td>\n",
       "      <td>Kind of pricey. I guess I expected a ridiculou...</td>\n",
       "      <td>Best Subs the</td>\n",
       "      <td>1</td>\n",
       "      <td>2</td>\n",
       "      <td>0.020917</td>\n",
       "      <td>2.715447e-08</td>\n",
       "    </tr>\n",
       "    <tr>\n",
       "      <th>608595</th>\n",
       "      <td>608596</td>\n",
       "      <td>608595.0</td>\n",
       "      <td>2012-08-22</td>\n",
       "      <td>5039</td>\n",
       "      <td>265320.0</td>\n",
       "      <td>Stopped by this restaurant yesterday, we just ...</td>\n",
       "      <td>Best Subs the</td>\n",
       "      <td>1</td>\n",
       "      <td>1</td>\n",
       "      <td>0.146421</td>\n",
       "      <td>1.422865e-01</td>\n",
       "    </tr>\n",
       "    <tr>\n",
       "      <th>608596</th>\n",
       "      <td>608597</td>\n",
       "      <td>608596.0</td>\n",
       "      <td>2011-05-11</td>\n",
       "      <td>5039</td>\n",
       "      <td>161722.0</td>\n",
       "      <td>Finally checked out The Best Subs in Claremont...</td>\n",
       "      <td>Best Subs the</td>\n",
       "      <td>1</td>\n",
       "      <td>4</td>\n",
       "      <td>0.190455</td>\n",
       "      <td>2.221830e-01</td>\n",
       "    </tr>\n",
       "    <tr>\n",
       "      <th>608597</th>\n",
       "      <td>608598</td>\n",
       "      <td>608597.0</td>\n",
       "      <td>2010-07-17</td>\n",
       "      <td>5039</td>\n",
       "      <td>78454.0</td>\n",
       "      <td>Just got me some \"Best Subs\" and I gotta say, ...</td>\n",
       "      <td>Best Subs the</td>\n",
       "      <td>1</td>\n",
       "      <td>4</td>\n",
       "      <td>0.161360</td>\n",
       "      <td>2.221830e-01</td>\n",
       "    </tr>\n",
       "  </tbody>\n",
       "</table>\n",
       "<p>608598 rows × 11 columns</p>\n",
       "</div>"
      ],
      "text/plain": [
       "        Unnamed: 0        ID  ... lstm_predict_probas  ffnn_predict_probas\n",
       "0                1       0.0  ...            0.226938         2.725078e-01\n",
       "1                2       1.0  ...            0.419023         2.221830e-01\n",
       "2                3       2.0  ...            0.318059         2.221830e-01\n",
       "3                4       3.0  ...            0.057116         2.221830e-01\n",
       "4                5       4.0  ...            0.066041         2.147548e-01\n",
       "...            ...       ...  ...                 ...                  ...\n",
       "608593      608594  608593.0  ...            0.184477         1.052087e-01\n",
       "608594      608595  608594.0  ...            0.020917         2.715447e-08\n",
       "608595      608596  608595.0  ...            0.146421         1.422865e-01\n",
       "608596      608597  608596.0  ...            0.190455         2.221830e-01\n",
       "608597      608598  608597.0  ...            0.161360         2.221830e-01\n",
       "\n",
       "[608598 rows x 11 columns]"
      ]
     },
     "execution_count": 26,
     "metadata": {
      "tags": []
     },
     "output_type": "execute_result"
    }
   ],
   "source": [
    "df_data_all_cols['ffnn_predict_probas'] = complete_preds\n",
    "df_data_all_cols"
   ]
  },
  {
   "cell_type": "code",
   "execution_count": 27,
   "metadata": {
    "collapsed": true,
    "id": "G52VltbuAo-y"
   },
   "outputs": [],
   "source": [
    "df_data_all_cols.to_csv(\"/content/drive/MyDrive/Colab Notebooks/6862_project/yelp_with_text_preds.csv\")"
   ]
  }
 ],
 "metadata": {
  "colab": {
   "collapsed_sections": [],
   "name": "6862_lstm_ffnn.ipynb",
   "provenance": []
  },
  "kernelspec": {
   "display_name": "Python 3",
   "language": "python",
   "name": "python3"
  },
  "language_info": {
   "codemirror_mode": {
    "name": "ipython",
    "version": 3
   },
   "file_extension": ".py",
   "mimetype": "text/x-python",
   "name": "python",
   "nbconvert_exporter": "python",
   "pygments_lexer": "ipython3",
   "version": "3.6.3"
  },
  "widgets": {
   "application/vnd.jupyter.widget-state+json": {
    "05e1c58327834556be4512d5dca7b6b6": {
     "model_module": "@jupyter-widgets/controls",
     "model_name": "FloatProgressModel",
     "state": {
      "_dom_classes": [],
      "_model_module": "@jupyter-widgets/controls",
      "_model_module_version": "1.5.0",
      "_model_name": "FloatProgressModel",
      "_view_count": null,
      "_view_module": "@jupyter-widgets/controls",
      "_view_module_version": "1.5.0",
      "_view_name": "ProgressView",
      "bar_style": "success",
      "description": "Downloading: 100%",
      "description_tooltip": null,
      "layout": "IPY_MODEL_795d4d1693654ecfabdd40d758691d0c",
      "max": 28,
      "min": 0,
      "orientation": "horizontal",
      "style": "IPY_MODEL_e7f4783a7bb8456b8bf3288e51a966cc",
      "value": 28
     }
    },
    "14ba3dbcad69476ea243160a9521b33b": {
     "model_module": "@jupyter-widgets/controls",
     "model_name": "HTMLModel",
     "state": {
      "_dom_classes": [],
      "_model_module": "@jupyter-widgets/controls",
      "_model_module_version": "1.5.0",
      "_model_name": "HTMLModel",
      "_view_count": null,
      "_view_module": "@jupyter-widgets/controls",
      "_view_module_version": "1.5.0",
      "_view_name": "HTMLView",
      "description": "",
      "description_tooltip": null,
      "layout": "IPY_MODEL_77412d186b5c43979b314d7c15b46ae1",
      "placeholder": "​",
      "style": "IPY_MODEL_ee8b91c73f4b40fa912c37f789a29724",
      "value": " 466k/466k [00:00&lt;00:00, 1.26MB/s]"
     }
    },
    "163406451de9492a9f5a98e1ca785c4f": {
     "model_module": "@jupyter-widgets/controls",
     "model_name": "HTMLModel",
     "state": {
      "_dom_classes": [],
      "_model_module": "@jupyter-widgets/controls",
      "_model_module_version": "1.5.0",
      "_model_name": "HTMLModel",
      "_view_count": null,
      "_view_module": "@jupyter-widgets/controls",
      "_view_module_version": "1.5.0",
      "_view_name": "HTMLView",
      "description": "",
      "description_tooltip": null,
      "layout": "IPY_MODEL_bdc89583b2a74069bfefb48b57a3df40",
      "placeholder": "​",
      "style": "IPY_MODEL_3d4370eea97244c584f142bb47b396e7",
      "value": " 232k/232k [00:01&lt;00:00, 147kB/s]"
     }
    },
    "2670df333d4841228fae330098d8cb94": {
     "model_module": "@jupyter-widgets/controls",
     "model_name": "HBoxModel",
     "state": {
      "_dom_classes": [],
      "_model_module": "@jupyter-widgets/controls",
      "_model_module_version": "1.5.0",
      "_model_name": "HBoxModel",
      "_view_count": null,
      "_view_module": "@jupyter-widgets/controls",
      "_view_module_version": "1.5.0",
      "_view_name": "HBoxView",
      "box_style": "",
      "children": [
       "IPY_MODEL_bf7c0917a49e48d697bd2ddf2c8cd56b",
       "IPY_MODEL_163406451de9492a9f5a98e1ca785c4f"
      ],
      "layout": "IPY_MODEL_81c317cdf4d14e48a0c74d578bd0f165"
     }
    },
    "2f53c2c26dc344b39fa7c4ddedb7688a": {
     "model_module": "@jupyter-widgets/controls",
     "model_name": "DescriptionStyleModel",
     "state": {
      "_model_module": "@jupyter-widgets/controls",
      "_model_module_version": "1.5.0",
      "_model_name": "DescriptionStyleModel",
      "_view_count": null,
      "_view_module": "@jupyter-widgets/base",
      "_view_module_version": "1.2.0",
      "_view_name": "StyleView",
      "description_width": ""
     }
    },
    "39d6aec45eea4e509fffabbc5b65e6f8": {
     "model_module": "@jupyter-widgets/base",
     "model_name": "LayoutModel",
     "state": {
      "_model_module": "@jupyter-widgets/base",
      "_model_module_version": "1.2.0",
      "_model_name": "LayoutModel",
      "_view_count": null,
      "_view_module": "@jupyter-widgets/base",
      "_view_module_version": "1.2.0",
      "_view_name": "LayoutView",
      "align_content": null,
      "align_items": null,
      "align_self": null,
      "border": null,
      "bottom": null,
      "display": null,
      "flex": null,
      "flex_flow": null,
      "grid_area": null,
      "grid_auto_columns": null,
      "grid_auto_flow": null,
      "grid_auto_rows": null,
      "grid_column": null,
      "grid_gap": null,
      "grid_row": null,
      "grid_template_areas": null,
      "grid_template_columns": null,
      "grid_template_rows": null,
      "height": null,
      "justify_content": null,
      "justify_items": null,
      "left": null,
      "margin": null,
      "max_height": null,
      "max_width": null,
      "min_height": null,
      "min_width": null,
      "object_fit": null,
      "object_position": null,
      "order": null,
      "overflow": null,
      "overflow_x": null,
      "overflow_y": null,
      "padding": null,
      "right": null,
      "top": null,
      "visibility": null,
      "width": null
     }
    },
    "3d4370eea97244c584f142bb47b396e7": {
     "model_module": "@jupyter-widgets/controls",
     "model_name": "DescriptionStyleModel",
     "state": {
      "_model_module": "@jupyter-widgets/controls",
      "_model_module_version": "1.5.0",
      "_model_name": "DescriptionStyleModel",
      "_view_count": null,
      "_view_module": "@jupyter-widgets/base",
      "_view_module_version": "1.2.0",
      "_view_name": "StyleView",
      "description_width": ""
     }
    },
    "401b6158a850430d80cd80087fc29711": {
     "model_module": "@jupyter-widgets/controls",
     "model_name": "HBoxModel",
     "state": {
      "_dom_classes": [],
      "_model_module": "@jupyter-widgets/controls",
      "_model_module_version": "1.5.0",
      "_model_name": "HBoxModel",
      "_view_count": null,
      "_view_module": "@jupyter-widgets/controls",
      "_view_module_version": "1.5.0",
      "_view_name": "HBoxView",
      "box_style": "",
      "children": [
       "IPY_MODEL_05e1c58327834556be4512d5dca7b6b6",
       "IPY_MODEL_dfdeb44311774aa0b3f29b57452f2e7a"
      ],
      "layout": "IPY_MODEL_39d6aec45eea4e509fffabbc5b65e6f8"
     }
    },
    "46c3b78aa62b4ebda35ba19f3df9095f": {
     "model_module": "@jupyter-widgets/controls",
     "model_name": "FloatProgressModel",
     "state": {
      "_dom_classes": [],
      "_model_module": "@jupyter-widgets/controls",
      "_model_module_version": "1.5.0",
      "_model_name": "FloatProgressModel",
      "_view_count": null,
      "_view_module": "@jupyter-widgets/controls",
      "_view_module_version": "1.5.0",
      "_view_name": "ProgressView",
      "bar_style": "success",
      "description": "Downloading: 100%",
      "description_tooltip": null,
      "layout": "IPY_MODEL_ac6603275ae94117bf9529bbed7221bc",
      "max": 466062,
      "min": 0,
      "orientation": "horizontal",
      "style": "IPY_MODEL_745ad171f8c542039010d50e5c04287b",
      "value": 466062
     }
    },
    "7447fe7303664c94a219caecda000b7f": {
     "model_module": "@jupyter-widgets/base",
     "model_name": "LayoutModel",
     "state": {
      "_model_module": "@jupyter-widgets/base",
      "_model_module_version": "1.2.0",
      "_model_name": "LayoutModel",
      "_view_count": null,
      "_view_module": "@jupyter-widgets/base",
      "_view_module_version": "1.2.0",
      "_view_name": "LayoutView",
      "align_content": null,
      "align_items": null,
      "align_self": null,
      "border": null,
      "bottom": null,
      "display": null,
      "flex": null,
      "flex_flow": null,
      "grid_area": null,
      "grid_auto_columns": null,
      "grid_auto_flow": null,
      "grid_auto_rows": null,
      "grid_column": null,
      "grid_gap": null,
      "grid_row": null,
      "grid_template_areas": null,
      "grid_template_columns": null,
      "grid_template_rows": null,
      "height": null,
      "justify_content": null,
      "justify_items": null,
      "left": null,
      "margin": null,
      "max_height": null,
      "max_width": null,
      "min_height": null,
      "min_width": null,
      "object_fit": null,
      "object_position": null,
      "order": null,
      "overflow": null,
      "overflow_x": null,
      "overflow_y": null,
      "padding": null,
      "right": null,
      "top": null,
      "visibility": null,
      "width": null
     }
    },
    "745ad171f8c542039010d50e5c04287b": {
     "model_module": "@jupyter-widgets/controls",
     "model_name": "ProgressStyleModel",
     "state": {
      "_model_module": "@jupyter-widgets/controls",
      "_model_module_version": "1.5.0",
      "_model_name": "ProgressStyleModel",
      "_view_count": null,
      "_view_module": "@jupyter-widgets/base",
      "_view_module_version": "1.2.0",
      "_view_name": "StyleView",
      "bar_color": null,
      "description_width": "initial"
     }
    },
    "77412d186b5c43979b314d7c15b46ae1": {
     "model_module": "@jupyter-widgets/base",
     "model_name": "LayoutModel",
     "state": {
      "_model_module": "@jupyter-widgets/base",
      "_model_module_version": "1.2.0",
      "_model_name": "LayoutModel",
      "_view_count": null,
      "_view_module": "@jupyter-widgets/base",
      "_view_module_version": "1.2.0",
      "_view_name": "LayoutView",
      "align_content": null,
      "align_items": null,
      "align_self": null,
      "border": null,
      "bottom": null,
      "display": null,
      "flex": null,
      "flex_flow": null,
      "grid_area": null,
      "grid_auto_columns": null,
      "grid_auto_flow": null,
      "grid_auto_rows": null,
      "grid_column": null,
      "grid_gap": null,
      "grid_row": null,
      "grid_template_areas": null,
      "grid_template_columns": null,
      "grid_template_rows": null,
      "height": null,
      "justify_content": null,
      "justify_items": null,
      "left": null,
      "margin": null,
      "max_height": null,
      "max_width": null,
      "min_height": null,
      "min_width": null,
      "object_fit": null,
      "object_position": null,
      "order": null,
      "overflow": null,
      "overflow_x": null,
      "overflow_y": null,
      "padding": null,
      "right": null,
      "top": null,
      "visibility": null,
      "width": null
     }
    },
    "795d4d1693654ecfabdd40d758691d0c": {
     "model_module": "@jupyter-widgets/base",
     "model_name": "LayoutModel",
     "state": {
      "_model_module": "@jupyter-widgets/base",
      "_model_module_version": "1.2.0",
      "_model_name": "LayoutModel",
      "_view_count": null,
      "_view_module": "@jupyter-widgets/base",
      "_view_module_version": "1.2.0",
      "_view_name": "LayoutView",
      "align_content": null,
      "align_items": null,
      "align_self": null,
      "border": null,
      "bottom": null,
      "display": null,
      "flex": null,
      "flex_flow": null,
      "grid_area": null,
      "grid_auto_columns": null,
      "grid_auto_flow": null,
      "grid_auto_rows": null,
      "grid_column": null,
      "grid_gap": null,
      "grid_row": null,
      "grid_template_areas": null,
      "grid_template_columns": null,
      "grid_template_rows": null,
      "height": null,
      "justify_content": null,
      "justify_items": null,
      "left": null,
      "margin": null,
      "max_height": null,
      "max_width": null,
      "min_height": null,
      "min_width": null,
      "object_fit": null,
      "object_position": null,
      "order": null,
      "overflow": null,
      "overflow_x": null,
      "overflow_y": null,
      "padding": null,
      "right": null,
      "top": null,
      "visibility": null,
      "width": null
     }
    },
    "81c317cdf4d14e48a0c74d578bd0f165": {
     "model_module": "@jupyter-widgets/base",
     "model_name": "LayoutModel",
     "state": {
      "_model_module": "@jupyter-widgets/base",
      "_model_module_version": "1.2.0",
      "_model_name": "LayoutModel",
      "_view_count": null,
      "_view_module": "@jupyter-widgets/base",
      "_view_module_version": "1.2.0",
      "_view_name": "LayoutView",
      "align_content": null,
      "align_items": null,
      "align_self": null,
      "border": null,
      "bottom": null,
      "display": null,
      "flex": null,
      "flex_flow": null,
      "grid_area": null,
      "grid_auto_columns": null,
      "grid_auto_flow": null,
      "grid_auto_rows": null,
      "grid_column": null,
      "grid_gap": null,
      "grid_row": null,
      "grid_template_areas": null,
      "grid_template_columns": null,
      "grid_template_rows": null,
      "height": null,
      "justify_content": null,
      "justify_items": null,
      "left": null,
      "margin": null,
      "max_height": null,
      "max_width": null,
      "min_height": null,
      "min_width": null,
      "object_fit": null,
      "object_position": null,
      "order": null,
      "overflow": null,
      "overflow_x": null,
      "overflow_y": null,
      "padding": null,
      "right": null,
      "top": null,
      "visibility": null,
      "width": null
     }
    },
    "964b755a31a04541b5712e66c0517082": {
     "model_module": "@jupyter-widgets/base",
     "model_name": "LayoutModel",
     "state": {
      "_model_module": "@jupyter-widgets/base",
      "_model_module_version": "1.2.0",
      "_model_name": "LayoutModel",
      "_view_count": null,
      "_view_module": "@jupyter-widgets/base",
      "_view_module_version": "1.2.0",
      "_view_name": "LayoutView",
      "align_content": null,
      "align_items": null,
      "align_self": null,
      "border": null,
      "bottom": null,
      "display": null,
      "flex": null,
      "flex_flow": null,
      "grid_area": null,
      "grid_auto_columns": null,
      "grid_auto_flow": null,
      "grid_auto_rows": null,
      "grid_column": null,
      "grid_gap": null,
      "grid_row": null,
      "grid_template_areas": null,
      "grid_template_columns": null,
      "grid_template_rows": null,
      "height": null,
      "justify_content": null,
      "justify_items": null,
      "left": null,
      "margin": null,
      "max_height": null,
      "max_width": null,
      "min_height": null,
      "min_width": null,
      "object_fit": null,
      "object_position": null,
      "order": null,
      "overflow": null,
      "overflow_x": null,
      "overflow_y": null,
      "padding": null,
      "right": null,
      "top": null,
      "visibility": null,
      "width": null
     }
    },
    "ac6603275ae94117bf9529bbed7221bc": {
     "model_module": "@jupyter-widgets/base",
     "model_name": "LayoutModel",
     "state": {
      "_model_module": "@jupyter-widgets/base",
      "_model_module_version": "1.2.0",
      "_model_name": "LayoutModel",
      "_view_count": null,
      "_view_module": "@jupyter-widgets/base",
      "_view_module_version": "1.2.0",
      "_view_name": "LayoutView",
      "align_content": null,
      "align_items": null,
      "align_self": null,
      "border": null,
      "bottom": null,
      "display": null,
      "flex": null,
      "flex_flow": null,
      "grid_area": null,
      "grid_auto_columns": null,
      "grid_auto_flow": null,
      "grid_auto_rows": null,
      "grid_column": null,
      "grid_gap": null,
      "grid_row": null,
      "grid_template_areas": null,
      "grid_template_columns": null,
      "grid_template_rows": null,
      "height": null,
      "justify_content": null,
      "justify_items": null,
      "left": null,
      "margin": null,
      "max_height": null,
      "max_width": null,
      "min_height": null,
      "min_width": null,
      "object_fit": null,
      "object_position": null,
      "order": null,
      "overflow": null,
      "overflow_x": null,
      "overflow_y": null,
      "padding": null,
      "right": null,
      "top": null,
      "visibility": null,
      "width": null
     }
    },
    "bdc89583b2a74069bfefb48b57a3df40": {
     "model_module": "@jupyter-widgets/base",
     "model_name": "LayoutModel",
     "state": {
      "_model_module": "@jupyter-widgets/base",
      "_model_module_version": "1.2.0",
      "_model_name": "LayoutModel",
      "_view_count": null,
      "_view_module": "@jupyter-widgets/base",
      "_view_module_version": "1.2.0",
      "_view_name": "LayoutView",
      "align_content": null,
      "align_items": null,
      "align_self": null,
      "border": null,
      "bottom": null,
      "display": null,
      "flex": null,
      "flex_flow": null,
      "grid_area": null,
      "grid_auto_columns": null,
      "grid_auto_flow": null,
      "grid_auto_rows": null,
      "grid_column": null,
      "grid_gap": null,
      "grid_row": null,
      "grid_template_areas": null,
      "grid_template_columns": null,
      "grid_template_rows": null,
      "height": null,
      "justify_content": null,
      "justify_items": null,
      "left": null,
      "margin": null,
      "max_height": null,
      "max_width": null,
      "min_height": null,
      "min_width": null,
      "object_fit": null,
      "object_position": null,
      "order": null,
      "overflow": null,
      "overflow_x": null,
      "overflow_y": null,
      "padding": null,
      "right": null,
      "top": null,
      "visibility": null,
      "width": null
     }
    },
    "bf7c0917a49e48d697bd2ddf2c8cd56b": {
     "model_module": "@jupyter-widgets/controls",
     "model_name": "FloatProgressModel",
     "state": {
      "_dom_classes": [],
      "_model_module": "@jupyter-widgets/controls",
      "_model_module_version": "1.5.0",
      "_model_name": "FloatProgressModel",
      "_view_count": null,
      "_view_module": "@jupyter-widgets/controls",
      "_view_module_version": "1.5.0",
      "_view_name": "ProgressView",
      "bar_style": "success",
      "description": "Downloading: 100%",
      "description_tooltip": null,
      "layout": "IPY_MODEL_7447fe7303664c94a219caecda000b7f",
      "max": 231508,
      "min": 0,
      "orientation": "horizontal",
      "style": "IPY_MODEL_ee2a00739eeb470a922d28d7965459e3",
      "value": 231508
     }
    },
    "bff45cc9212244fabd346e290a36b5f2": {
     "model_module": "@jupyter-widgets/base",
     "model_name": "LayoutModel",
     "state": {
      "_model_module": "@jupyter-widgets/base",
      "_model_module_version": "1.2.0",
      "_model_name": "LayoutModel",
      "_view_count": null,
      "_view_module": "@jupyter-widgets/base",
      "_view_module_version": "1.2.0",
      "_view_name": "LayoutView",
      "align_content": null,
      "align_items": null,
      "align_self": null,
      "border": null,
      "bottom": null,
      "display": null,
      "flex": null,
      "flex_flow": null,
      "grid_area": null,
      "grid_auto_columns": null,
      "grid_auto_flow": null,
      "grid_auto_rows": null,
      "grid_column": null,
      "grid_gap": null,
      "grid_row": null,
      "grid_template_areas": null,
      "grid_template_columns": null,
      "grid_template_rows": null,
      "height": null,
      "justify_content": null,
      "justify_items": null,
      "left": null,
      "margin": null,
      "max_height": null,
      "max_width": null,
      "min_height": null,
      "min_width": null,
      "object_fit": null,
      "object_position": null,
      "order": null,
      "overflow": null,
      "overflow_x": null,
      "overflow_y": null,
      "padding": null,
      "right": null,
      "top": null,
      "visibility": null,
      "width": null
     }
    },
    "d2a9fc50a5e74a97bf7e1d5947847cee": {
     "model_module": "@jupyter-widgets/controls",
     "model_name": "HBoxModel",
     "state": {
      "_dom_classes": [],
      "_model_module": "@jupyter-widgets/controls",
      "_model_module_version": "1.5.0",
      "_model_name": "HBoxModel",
      "_view_count": null,
      "_view_module": "@jupyter-widgets/controls",
      "_view_module_version": "1.5.0",
      "_view_name": "HBoxView",
      "box_style": "",
      "children": [
       "IPY_MODEL_46c3b78aa62b4ebda35ba19f3df9095f",
       "IPY_MODEL_14ba3dbcad69476ea243160a9521b33b"
      ],
      "layout": "IPY_MODEL_bff45cc9212244fabd346e290a36b5f2"
     }
    },
    "dfdeb44311774aa0b3f29b57452f2e7a": {
     "model_module": "@jupyter-widgets/controls",
     "model_name": "HTMLModel",
     "state": {
      "_dom_classes": [],
      "_model_module": "@jupyter-widgets/controls",
      "_model_module_version": "1.5.0",
      "_model_name": "HTMLModel",
      "_view_count": null,
      "_view_module": "@jupyter-widgets/controls",
      "_view_module_version": "1.5.0",
      "_view_name": "HTMLView",
      "description": "",
      "description_tooltip": null,
      "layout": "IPY_MODEL_964b755a31a04541b5712e66c0517082",
      "placeholder": "​",
      "style": "IPY_MODEL_2f53c2c26dc344b39fa7c4ddedb7688a",
      "value": " 28.0/28.0 [00:00&lt;00:00, 62.6B/s]"
     }
    },
    "e7f4783a7bb8456b8bf3288e51a966cc": {
     "model_module": "@jupyter-widgets/controls",
     "model_name": "ProgressStyleModel",
     "state": {
      "_model_module": "@jupyter-widgets/controls",
      "_model_module_version": "1.5.0",
      "_model_name": "ProgressStyleModel",
      "_view_count": null,
      "_view_module": "@jupyter-widgets/base",
      "_view_module_version": "1.2.0",
      "_view_name": "StyleView",
      "bar_color": null,
      "description_width": "initial"
     }
    },
    "ee2a00739eeb470a922d28d7965459e3": {
     "model_module": "@jupyter-widgets/controls",
     "model_name": "ProgressStyleModel",
     "state": {
      "_model_module": "@jupyter-widgets/controls",
      "_model_module_version": "1.5.0",
      "_model_name": "ProgressStyleModel",
      "_view_count": null,
      "_view_module": "@jupyter-widgets/base",
      "_view_module_version": "1.2.0",
      "_view_name": "StyleView",
      "bar_color": null,
      "description_width": "initial"
     }
    },
    "ee8b91c73f4b40fa912c37f789a29724": {
     "model_module": "@jupyter-widgets/controls",
     "model_name": "DescriptionStyleModel",
     "state": {
      "_model_module": "@jupyter-widgets/controls",
      "_model_module_version": "1.5.0",
      "_model_name": "DescriptionStyleModel",
      "_view_count": null,
      "_view_module": "@jupyter-widgets/base",
      "_view_module_version": "1.2.0",
      "_view_name": "StyleView",
      "description_width": ""
     }
    }
   }
  }
 },
 "nbformat": 4,
 "nbformat_minor": 1
}
