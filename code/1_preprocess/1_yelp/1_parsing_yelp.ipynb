{
 "cells": [
  {
   "cell_type": "markdown",
   "metadata": {},
   "source": [
    "# Preprocessing and Parsing Raw Data\n",
    "\n",
    "This notebook is concerned with parsing and then preprocessing the raw data from the `data/raw` folder, and then storing the new format (csv's) in the `data/processed` folder."
   ]
  },
  {
   "cell_type": "code",
   "execution_count": 1,
   "metadata": {
    "collapsed": true
   },
   "outputs": [],
   "source": [
    "# Importing the relevant libraries\n",
    "import pandas as pd\n",
    "import os\n",
    "import json\n",
    "import gzip"
   ]
  },
  {
   "cell_type": "markdown",
   "metadata": {},
   "source": [
    " ** Amazon Prime Pantry Data **"
   ]
  },
  {
   "cell_type": "code",
   "execution_count": 2,
   "metadata": {},
   "outputs": [
    {
     "name": "stdout",
     "output_type": "stream",
     "text": [
      "Number of reviews: 137788\n",
      "Example of the data (first row): {'overall': 4.0, 'verified': True, 'reviewTime': '09 24, 2015', 'reviewerID': 'A31Y9ELLA1JUB0', 'asin': 'B0000DIWNI', 'reviewerName': 'Her Royal Peepness Princess HoneyBunny Blayze', 'reviewText': \"I purchased this Saran premium plastic wrap after trying Reynolds press and seal wrap which I would never use again.. There is less static cling to this wrap than I remember. To me this is a good thing because it doesn't stick to its self .\\n\\nThis is my typical complaint with all plastic wraps. When trying to cut them they ball all up and are useless. However they have improved this. Now Saran clings to the bowl or plate you wish to cover.\\n\\nNow if only they could improve the cutters on the boxes so  that the cutters actually cut and scissors weren't required would be better..\", 'summary': 'Pretty Good For plastic Wrap', 'unixReviewTime': 1443052800}\n"
     ]
    }
   ],
   "source": [
    "data = []\n",
    "with gzip.open('../../data/raw/amazon_prime_pantry.json.gz') as f:\n",
    "    for l in f:\n",
    "        data.append(json.loads(l.strip()))\n",
    "    \n",
    "# total length of list, this number equals total number of products\n",
    "print(\"Number of reviews:\", len(data))\n",
    "\n",
    "# first row of the list\n",
    "print(\"Example of the data (first row):\", data[0])"
   ]
  },
  {
   "cell_type": "code",
   "execution_count": 3,
   "metadata": {},
   "outputs": [
    {
     "data": {
      "text/html": [
       "<div>\n",
       "<style>\n",
       "    .dataframe thead tr:only-child th {\n",
       "        text-align: right;\n",
       "    }\n",
       "\n",
       "    .dataframe thead th {\n",
       "        text-align: left;\n",
       "    }\n",
       "\n",
       "    .dataframe tbody tr th {\n",
       "        vertical-align: top;\n",
       "    }\n",
       "</style>\n",
       "<table border=\"1\" class=\"dataframe\">\n",
       "  <thead>\n",
       "    <tr style=\"text-align: right;\">\n",
       "      <th></th>\n",
       "      <th>asin</th>\n",
       "      <th>image</th>\n",
       "      <th>overall</th>\n",
       "      <th>reviewText</th>\n",
       "      <th>reviewTime</th>\n",
       "      <th>reviewerID</th>\n",
       "      <th>reviewerName</th>\n",
       "      <th>style</th>\n",
       "      <th>summary</th>\n",
       "      <th>unixReviewTime</th>\n",
       "      <th>verified</th>\n",
       "      <th>vote</th>\n",
       "    </tr>\n",
       "  </thead>\n",
       "  <tbody>\n",
       "    <tr>\n",
       "      <th>0</th>\n",
       "      <td>B0000DIWNI</td>\n",
       "      <td>NaN</td>\n",
       "      <td>4.0</td>\n",
       "      <td>I purchased this Saran premium plastic wrap af...</td>\n",
       "      <td>09 24, 2015</td>\n",
       "      <td>A31Y9ELLA1JUB0</td>\n",
       "      <td>Her Royal Peepness Princess HoneyBunny Blayze</td>\n",
       "      <td>NaN</td>\n",
       "      <td>Pretty Good For plastic Wrap</td>\n",
       "      <td>1443052800</td>\n",
       "      <td>True</td>\n",
       "      <td>NaN</td>\n",
       "    </tr>\n",
       "    <tr>\n",
       "      <th>1</th>\n",
       "      <td>B0000DIWNI</td>\n",
       "      <td>NaN</td>\n",
       "      <td>5.0</td>\n",
       "      <td>I am an avid cook and baker.  Saran Premium Pl...</td>\n",
       "      <td>06 23, 2015</td>\n",
       "      <td>A2FYW9VZ0AMXKY</td>\n",
       "      <td>Mary</td>\n",
       "      <td>NaN</td>\n",
       "      <td>The Best Plastic Wrap for your Cooking, Baking...</td>\n",
       "      <td>1435017600</td>\n",
       "      <td>True</td>\n",
       "      <td>NaN</td>\n",
       "    </tr>\n",
       "    <tr>\n",
       "      <th>2</th>\n",
       "      <td>B0000DIWNI</td>\n",
       "      <td>NaN</td>\n",
       "      <td>5.0</td>\n",
       "      <td>Good wrap, keeping it in the fridge makes it e...</td>\n",
       "      <td>06 13, 2015</td>\n",
       "      <td>A1NE43T0OM6NNX</td>\n",
       "      <td>Tulay C</td>\n",
       "      <td>NaN</td>\n",
       "      <td>Good and strong.</td>\n",
       "      <td>1434153600</td>\n",
       "      <td>True</td>\n",
       "      <td>NaN</td>\n",
       "    </tr>\n",
       "    <tr>\n",
       "      <th>3</th>\n",
       "      <td>B0000DIWNI</td>\n",
       "      <td>NaN</td>\n",
       "      <td>4.0</td>\n",
       "      <td>I prefer Saran wrap over other brands. It does...</td>\n",
       "      <td>06 3, 2015</td>\n",
       "      <td>AHTCPGK2CNPKU</td>\n",
       "      <td>OmaShops</td>\n",
       "      <td>NaN</td>\n",
       "      <td>Doesn't cling as well to dishes as other brand...</td>\n",
       "      <td>1433289600</td>\n",
       "      <td>True</td>\n",
       "      <td>NaN</td>\n",
       "    </tr>\n",
       "    <tr>\n",
       "      <th>4</th>\n",
       "      <td>B0000DIWNI</td>\n",
       "      <td>NaN</td>\n",
       "      <td>5.0</td>\n",
       "      <td>Thanks</td>\n",
       "      <td>04 20, 2015</td>\n",
       "      <td>A25SIBTMVXLB59</td>\n",
       "      <td>Nitemanslim</td>\n",
       "      <td>NaN</td>\n",
       "      <td>Five Stars</td>\n",
       "      <td>1429488000</td>\n",
       "      <td>True</td>\n",
       "      <td>NaN</td>\n",
       "    </tr>\n",
       "  </tbody>\n",
       "</table>\n",
       "</div>"
      ],
      "text/plain": [
       "         asin image  overall  \\\n",
       "0  B0000DIWNI   NaN      4.0   \n",
       "1  B0000DIWNI   NaN      5.0   \n",
       "2  B0000DIWNI   NaN      5.0   \n",
       "3  B0000DIWNI   NaN      4.0   \n",
       "4  B0000DIWNI   NaN      5.0   \n",
       "\n",
       "                                          reviewText   reviewTime  \\\n",
       "0  I purchased this Saran premium plastic wrap af...  09 24, 2015   \n",
       "1  I am an avid cook and baker.  Saran Premium Pl...  06 23, 2015   \n",
       "2  Good wrap, keeping it in the fridge makes it e...  06 13, 2015   \n",
       "3  I prefer Saran wrap over other brands. It does...   06 3, 2015   \n",
       "4                                             Thanks  04 20, 2015   \n",
       "\n",
       "       reviewerID                                   reviewerName style  \\\n",
       "0  A31Y9ELLA1JUB0  Her Royal Peepness Princess HoneyBunny Blayze   NaN   \n",
       "1  A2FYW9VZ0AMXKY                                           Mary   NaN   \n",
       "2  A1NE43T0OM6NNX                                        Tulay C   NaN   \n",
       "3   AHTCPGK2CNPKU                                       OmaShops   NaN   \n",
       "4  A25SIBTMVXLB59                                    Nitemanslim   NaN   \n",
       "\n",
       "                                             summary  unixReviewTime  \\\n",
       "0                       Pretty Good For plastic Wrap      1443052800   \n",
       "1  The Best Plastic Wrap for your Cooking, Baking...      1435017600   \n",
       "2                                   Good and strong.      1434153600   \n",
       "3  Doesn't cling as well to dishes as other brand...      1433289600   \n",
       "4                                         Five Stars      1429488000   \n",
       "\n",
       "   verified vote  \n",
       "0      True  NaN  \n",
       "1      True  NaN  \n",
       "2      True  NaN  \n",
       "3      True  NaN  \n",
       "4      True  NaN  "
      ]
     },
     "execution_count": 3,
     "metadata": {},
     "output_type": "execute_result"
    }
   ],
   "source": [
    "df = pd.DataFrame.from_dict(data)  # Parsing the data as a pandas dataframe \n",
    "df.head(5)  # Displayin the first 5 rows of the dataframe below"
   ]
  },
  {
   "cell_type": "code",
   "execution_count": 4,
   "metadata": {
    "collapsed": true
   },
   "outputs": [],
   "source": [
    "# Saving the data to the processed folder\n",
    "df.to_csv('../../data/processed/amazon_prime_pantry.csv')"
   ]
  },
  {
   "cell_type": "markdown",
   "metadata": {},
   "source": [
    " ** Amazon Gourmet Food and Groceries Data **"
   ]
  },
  {
   "cell_type": "code",
   "execution_count": 5,
   "metadata": {},
   "outputs": [
    {
     "name": "stdout",
     "output_type": "stream",
     "text": [
      "Number of reviews: 1143860\n",
      "Example of the data (first row): {'overall': 5.0, 'verified': True, 'reviewTime': '11 19, 2014', 'reviewerID': 'A1QVBUH9E1V6I8', 'asin': '4639725183', 'reviewerName': 'Jamshed Mathur', 'reviewText': 'No adverse comment.', 'summary': 'Five Stars', 'unixReviewTime': 1416355200}\n"
     ]
    }
   ],
   "source": [
    "data = []\n",
    "with gzip.open('../../data/raw/amazon_grocery_gourmet.json.gz') as f:\n",
    "    for l in f:\n",
    "        data.append(json.loads(l.strip()))\n",
    "    \n",
    "# total length of list, this number equals total number of products\n",
    "print(\"Number of reviews:\", len(data))\n",
    "\n",
    "# first row of the list\n",
    "print(\"Example of the data (first row):\", data[0])"
   ]
  },
  {
   "cell_type": "code",
   "execution_count": 6,
   "metadata": {},
   "outputs": [
    {
     "data": {
      "text/html": [
       "<div>\n",
       "<style>\n",
       "    .dataframe thead tr:only-child th {\n",
       "        text-align: right;\n",
       "    }\n",
       "\n",
       "    .dataframe thead th {\n",
       "        text-align: left;\n",
       "    }\n",
       "\n",
       "    .dataframe tbody tr th {\n",
       "        vertical-align: top;\n",
       "    }\n",
       "</style>\n",
       "<table border=\"1\" class=\"dataframe\">\n",
       "  <thead>\n",
       "    <tr style=\"text-align: right;\">\n",
       "      <th></th>\n",
       "      <th>asin</th>\n",
       "      <th>image</th>\n",
       "      <th>overall</th>\n",
       "      <th>reviewText</th>\n",
       "      <th>reviewTime</th>\n",
       "      <th>reviewerID</th>\n",
       "      <th>reviewerName</th>\n",
       "      <th>style</th>\n",
       "      <th>summary</th>\n",
       "      <th>unixReviewTime</th>\n",
       "      <th>verified</th>\n",
       "      <th>vote</th>\n",
       "    </tr>\n",
       "  </thead>\n",
       "  <tbody>\n",
       "    <tr>\n",
       "      <th>0</th>\n",
       "      <td>4639725183</td>\n",
       "      <td>NaN</td>\n",
       "      <td>5.0</td>\n",
       "      <td>No adverse comment.</td>\n",
       "      <td>11 19, 2014</td>\n",
       "      <td>A1QVBUH9E1V6I8</td>\n",
       "      <td>Jamshed Mathur</td>\n",
       "      <td>NaN</td>\n",
       "      <td>Five Stars</td>\n",
       "      <td>1416355200</td>\n",
       "      <td>True</td>\n",
       "      <td>NaN</td>\n",
       "    </tr>\n",
       "    <tr>\n",
       "      <th>1</th>\n",
       "      <td>4639725183</td>\n",
       "      <td>NaN</td>\n",
       "      <td>5.0</td>\n",
       "      <td>Gift for college student.</td>\n",
       "      <td>10 13, 2016</td>\n",
       "      <td>A3GEOILWLK86XM</td>\n",
       "      <td>itsjustme</td>\n",
       "      <td>NaN</td>\n",
       "      <td>Great product.</td>\n",
       "      <td>1476316800</td>\n",
       "      <td>True</td>\n",
       "      <td>NaN</td>\n",
       "    </tr>\n",
       "    <tr>\n",
       "      <th>2</th>\n",
       "      <td>4639725183</td>\n",
       "      <td>NaN</td>\n",
       "      <td>5.0</td>\n",
       "      <td>If you like strong tea, this is for you. It mi...</td>\n",
       "      <td>11 21, 2015</td>\n",
       "      <td>A32RD6L701BIGP</td>\n",
       "      <td>Krystal Clifton</td>\n",
       "      <td>NaN</td>\n",
       "      <td>Strong</td>\n",
       "      <td>1448064000</td>\n",
       "      <td>True</td>\n",
       "      <td>NaN</td>\n",
       "    </tr>\n",
       "    <tr>\n",
       "      <th>3</th>\n",
       "      <td>4639725183</td>\n",
       "      <td>NaN</td>\n",
       "      <td>5.0</td>\n",
       "      <td>Love the tea. The flavor is way better than th...</td>\n",
       "      <td>08 12, 2015</td>\n",
       "      <td>A2UY1O1FBGKIE6</td>\n",
       "      <td>U. Kane</td>\n",
       "      <td>NaN</td>\n",
       "      <td>Great tea</td>\n",
       "      <td>1439337600</td>\n",
       "      <td>True</td>\n",
       "      <td>NaN</td>\n",
       "    </tr>\n",
       "    <tr>\n",
       "      <th>4</th>\n",
       "      <td>4639725183</td>\n",
       "      <td>NaN</td>\n",
       "      <td>5.0</td>\n",
       "      <td>I have searched everywhere until I browsed Ama...</td>\n",
       "      <td>05 28, 2015</td>\n",
       "      <td>A3QHVBQYDV7Z6U</td>\n",
       "      <td>The Nana</td>\n",
       "      <td>NaN</td>\n",
       "      <td>This is the tea I remembered!</td>\n",
       "      <td>1432771200</td>\n",
       "      <td>True</td>\n",
       "      <td>NaN</td>\n",
       "    </tr>\n",
       "  </tbody>\n",
       "</table>\n",
       "</div>"
      ],
      "text/plain": [
       "         asin image  overall  \\\n",
       "0  4639725183   NaN      5.0   \n",
       "1  4639725183   NaN      5.0   \n",
       "2  4639725183   NaN      5.0   \n",
       "3  4639725183   NaN      5.0   \n",
       "4  4639725183   NaN      5.0   \n",
       "\n",
       "                                          reviewText   reviewTime  \\\n",
       "0                                No adverse comment.  11 19, 2014   \n",
       "1                          Gift for college student.  10 13, 2016   \n",
       "2  If you like strong tea, this is for you. It mi...  11 21, 2015   \n",
       "3  Love the tea. The flavor is way better than th...  08 12, 2015   \n",
       "4  I have searched everywhere until I browsed Ama...  05 28, 2015   \n",
       "\n",
       "       reviewerID     reviewerName style                        summary  \\\n",
       "0  A1QVBUH9E1V6I8   Jamshed Mathur   NaN                     Five Stars   \n",
       "1  A3GEOILWLK86XM        itsjustme   NaN                 Great product.   \n",
       "2  A32RD6L701BIGP  Krystal Clifton   NaN                         Strong   \n",
       "3  A2UY1O1FBGKIE6          U. Kane   NaN                      Great tea   \n",
       "4  A3QHVBQYDV7Z6U         The Nana   NaN  This is the tea I remembered!   \n",
       "\n",
       "   unixReviewTime  verified vote  \n",
       "0      1416355200      True  NaN  \n",
       "1      1476316800      True  NaN  \n",
       "2      1448064000      True  NaN  \n",
       "3      1439337600      True  NaN  \n",
       "4      1432771200      True  NaN  "
      ]
     },
     "execution_count": 6,
     "metadata": {},
     "output_type": "execute_result"
    }
   ],
   "source": [
    "df = pd.DataFrame.from_dict(data)  # Parsing the data as a pandas dataframe \n",
    "df.head(5)  # Displaying the first 5 rows of the dataframe below"
   ]
  },
  {
   "cell_type": "code",
   "execution_count": 7,
   "metadata": {
    "collapsed": true
   },
   "outputs": [],
   "source": [
    "# Saving the data to the processed folder\n",
    "df.to_csv('../../data/processed/amazon_grocery_gourmet.csv')"
   ]
  },
  {
   "cell_type": "markdown",
   "metadata": {},
   "source": [
    " ** Yelp Data **"
   ]
  },
  {
   "cell_type": "code",
   "execution_count": 8,
   "metadata": {
    "collapsed": true
   },
   "outputs": [],
   "source": [
    "yelp_file = open('../../data/raw/yelp_all', 'r')  # Opening the file"
   ]
  },
  {
   "cell_type": "code",
   "execution_count": 9,
   "metadata": {},
   "outputs": [
    {
     "name": "stdout",
     "output_type": "stream",
     "text": [
      "5044\t0\t2014-11-16\tDrinks were bad, the hot chocolate was watered down and the latte had a burnt taste to it. The food was also poor quality, but the service was the worst part, their cashier was very rude.\n",
      "\n"
     ]
    }
   ],
   "source": [
    "lines = yelp_file.readlines()  # Storing each line as an element in a list\n",
    "print(lines[0])  # printing the first line"
   ]
  },
  {
   "cell_type": "code",
   "execution_count": 10,
   "metadata": {},
   "outputs": [
    {
     "name": "stdout",
     "output_type": "stream",
     "text": [
      "{'productID': '5044', 'fakeLabel': '0', 'date': '2014-11-16', 'reviewText': 'Drinks were bad, the hot chocolate was watered down and the latte had a burnt taste to it. The food was also poor quality, but the service was the worst part, their cashier was very rude.\\n'}\n"
     ]
    }
   ],
   "source": [
    "# Creating a list of dictionaries (each element is a row)\n",
    "rows = []\n",
    "for line in lines:\n",
    "    current_row_list = line.split(\"\\t\")\n",
    "    current_row_dict = {\n",
    "        \"productID\": current_row_list[0],\n",
    "        \"fakeLabel\": current_row_list[1],\n",
    "        \"date\": current_row_list[2],\n",
    "        \"reviewText\": current_row_list[3]\n",
    "    }\n",
    "    rows.append(current_row_dict)\n",
    "print(rows[0])  # Printing the first row"
   ]
  },
  {
   "cell_type": "code",
   "execution_count": 11,
   "metadata": {},
   "outputs": [
    {
     "data": {
      "text/html": [
       "<div>\n",
       "<style>\n",
       "    .dataframe thead tr:only-child th {\n",
       "        text-align: right;\n",
       "    }\n",
       "\n",
       "    .dataframe thead th {\n",
       "        text-align: left;\n",
       "    }\n",
       "\n",
       "    .dataframe tbody tr th {\n",
       "        vertical-align: top;\n",
       "    }\n",
       "</style>\n",
       "<table border=\"1\" class=\"dataframe\">\n",
       "  <thead>\n",
       "    <tr style=\"text-align: right;\">\n",
       "      <th></th>\n",
       "      <th>date</th>\n",
       "      <th>fakeLabel</th>\n",
       "      <th>productID</th>\n",
       "      <th>reviewText</th>\n",
       "    </tr>\n",
       "  </thead>\n",
       "  <tbody>\n",
       "    <tr>\n",
       "      <th>0</th>\n",
       "      <td>2014-11-16</td>\n",
       "      <td>0</td>\n",
       "      <td>5044</td>\n",
       "      <td>Drinks were bad, the hot chocolate was watered...</td>\n",
       "    </tr>\n",
       "    <tr>\n",
       "      <th>1</th>\n",
       "      <td>2014-09-08</td>\n",
       "      <td>0</td>\n",
       "      <td>5045</td>\n",
       "      <td>This was the worst experience I've ever had a ...</td>\n",
       "    </tr>\n",
       "    <tr>\n",
       "      <th>2</th>\n",
       "      <td>2013-10-06</td>\n",
       "      <td>0</td>\n",
       "      <td>5046</td>\n",
       "      <td>This is located on the site of the old Spruce ...</td>\n",
       "    </tr>\n",
       "    <tr>\n",
       "      <th>3</th>\n",
       "      <td>2014-11-30</td>\n",
       "      <td>0</td>\n",
       "      <td>5047</td>\n",
       "      <td>I enjoyed coffee and breakfast twice at Toast ...</td>\n",
       "    </tr>\n",
       "    <tr>\n",
       "      <th>4</th>\n",
       "      <td>2014-08-28</td>\n",
       "      <td>0</td>\n",
       "      <td>5048</td>\n",
       "      <td>I love Toast! The food choices are fantastic -...</td>\n",
       "    </tr>\n",
       "  </tbody>\n",
       "</table>\n",
       "</div>"
      ],
      "text/plain": [
       "         date fakeLabel productID  \\\n",
       "0  2014-11-16         0      5044   \n",
       "1  2014-09-08         0      5045   \n",
       "2  2013-10-06         0      5046   \n",
       "3  2014-11-30         0      5047   \n",
       "4  2014-08-28         0      5048   \n",
       "\n",
       "                                          reviewText  \n",
       "0  Drinks were bad, the hot chocolate was watered...  \n",
       "1  This was the worst experience I've ever had a ...  \n",
       "2  This is located on the site of the old Spruce ...  \n",
       "3  I enjoyed coffee and breakfast twice at Toast ...  \n",
       "4  I love Toast! The food choices are fantastic -...  "
      ]
     },
     "execution_count": 11,
     "metadata": {},
     "output_type": "execute_result"
    }
   ],
   "source": [
    "df = pd.DataFrame.from_dict(rows)  # Parsing the data as a pandas dataframe \n",
    "df.head(5)  # Displaying the first 5 rows of the dataframe below"
   ]
  },
  {
   "cell_type": "code",
   "execution_count": 12,
   "metadata": {
    "collapsed": true
   },
   "outputs": [],
   "source": [
    "# Saving the data to the processed folder\n",
    "df.to_csv('../../data/processed/yelp_all.csv')"
   ]
  },
  {
   "cell_type": "code",
   "execution_count": null,
   "metadata": {
    "collapsed": true
   },
   "outputs": [],
   "source": []
  }
 ],
 "metadata": {
  "kernelspec": {
   "display_name": "Python 3",
   "language": "python",
   "name": "python3"
  },
  "language_info": {
   "codemirror_mode": {
    "name": "ipython",
    "version": 3
   },
   "file_extension": ".py",
   "mimetype": "text/x-python",
   "name": "python",
   "nbconvert_exporter": "python",
   "pygments_lexer": "ipython3",
   "version": "3.6.3"
  }
 },
 "nbformat": 4,
 "nbformat_minor": 2
}
