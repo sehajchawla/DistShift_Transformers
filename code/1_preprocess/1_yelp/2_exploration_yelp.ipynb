{
 "cells": [
  {
   "cell_type": "markdown",
   "metadata": {},
   "source": [
    "# Yelp Data Exploration\n",
    "\n",
    "This notebook is concerned with exploring some of the yelp data. We do this by creating summary statistics and visualizations to understand the spread better, and get familiar with the dataset."
   ]
  },
  {
   "cell_type": "code",
   "execution_count": 1,
   "metadata": {
    "collapsed": true
   },
   "outputs": [],
   "source": [
    "# importing the relevant libraries\n",
    "import pandas as pd\n",
    "import matplotlib.pyplot as plt\n",
    "import numpy as np"
   ]
  },
  {
   "cell_type": "code",
   "execution_count": 2,
   "metadata": {},
   "outputs": [
    {
     "data": {
      "text/html": [
       "<div>\n",
       "<style>\n",
       "    .dataframe thead tr:only-child th {\n",
       "        text-align: right;\n",
       "    }\n",
       "\n",
       "    .dataframe thead th {\n",
       "        text-align: left;\n",
       "    }\n",
       "\n",
       "    .dataframe tbody tr th {\n",
       "        vertical-align: top;\n",
       "    }\n",
       "</style>\n",
       "<table border=\"1\" class=\"dataframe\">\n",
       "  <thead>\n",
       "    <tr style=\"text-align: right;\">\n",
       "      <th></th>\n",
       "      <th>date</th>\n",
       "      <th>fakeLabel</th>\n",
       "      <th>productID</th>\n",
       "      <th>reviewText</th>\n",
       "    </tr>\n",
       "  </thead>\n",
       "  <tbody>\n",
       "    <tr>\n",
       "      <th>0</th>\n",
       "      <td>2014-11-16</td>\n",
       "      <td>0</td>\n",
       "      <td>5044</td>\n",
       "      <td>Drinks were bad, the hot chocolate was watered...</td>\n",
       "    </tr>\n",
       "    <tr>\n",
       "      <th>1</th>\n",
       "      <td>2014-09-08</td>\n",
       "      <td>0</td>\n",
       "      <td>5045</td>\n",
       "      <td>This was the worst experience I've ever had a ...</td>\n",
       "    </tr>\n",
       "    <tr>\n",
       "      <th>2</th>\n",
       "      <td>2013-10-06</td>\n",
       "      <td>0</td>\n",
       "      <td>5046</td>\n",
       "      <td>This is located on the site of the old Spruce ...</td>\n",
       "    </tr>\n",
       "    <tr>\n",
       "      <th>3</th>\n",
       "      <td>2014-11-30</td>\n",
       "      <td>0</td>\n",
       "      <td>5047</td>\n",
       "      <td>I enjoyed coffee and breakfast twice at Toast ...</td>\n",
       "    </tr>\n",
       "    <tr>\n",
       "      <th>4</th>\n",
       "      <td>2014-08-28</td>\n",
       "      <td>0</td>\n",
       "      <td>5048</td>\n",
       "      <td>I love Toast! The food choices are fantastic -...</td>\n",
       "    </tr>\n",
       "  </tbody>\n",
       "</table>\n",
       "</div>"
      ],
      "text/plain": [
       "         date  fakeLabel  productID  \\\n",
       "0  2014-11-16          0       5044   \n",
       "1  2014-09-08          0       5045   \n",
       "2  2013-10-06          0       5046   \n",
       "3  2014-11-30          0       5047   \n",
       "4  2014-08-28          0       5048   \n",
       "\n",
       "                                          reviewText  \n",
       "0  Drinks were bad, the hot chocolate was watered...  \n",
       "1  This was the worst experience I've ever had a ...  \n",
       "2  This is located on the site of the old Spruce ...  \n",
       "3  I enjoyed coffee and breakfast twice at Toast ...  \n",
       "4  I love Toast! The food choices are fantastic -...  "
      ]
     },
     "execution_count": 2,
     "metadata": {},
     "output_type": "execute_result"
    }
   ],
   "source": [
    "# Loading up the data\n",
    "df = pd.read_csv(\"../../data/processed/yelp_all.csv\")\n",
    "df = df.drop(['Unnamed: 0'], axis=1)  # Deleting an irrelevant column\n",
    "df.head(5)  # Displaying first 5 rows of the dataframe"
   ]
  },
  {
   "cell_type": "markdown",
   "metadata": {},
   "source": [
    "Starting by visualising the spread of the length of the reviews (by the number of words in each review)."
   ]
  },
  {
   "cell_type": "code",
   "execution_count": 4,
   "metadata": {},
   "outputs": [
    {
     "data": {
      "text/html": [
       "<div>\n",
       "<style>\n",
       "    .dataframe thead tr:only-child th {\n",
       "        text-align: right;\n",
       "    }\n",
       "\n",
       "    .dataframe thead th {\n",
       "        text-align: left;\n",
       "    }\n",
       "\n",
       "    .dataframe tbody tr th {\n",
       "        vertical-align: top;\n",
       "    }\n",
       "</style>\n",
       "<table border=\"1\" class=\"dataframe\">\n",
       "  <thead>\n",
       "    <tr style=\"text-align: right;\">\n",
       "      <th></th>\n",
       "      <th>Unnamed: 0</th>\n",
       "      <th>date</th>\n",
       "      <th>fakeLabel</th>\n",
       "      <th>productID</th>\n",
       "      <th>reviewText</th>\n",
       "      <th>wordCount</th>\n",
       "    </tr>\n",
       "  </thead>\n",
       "  <tbody>\n",
       "    <tr>\n",
       "      <th>0</th>\n",
       "      <td>0</td>\n",
       "      <td>2014-11-16</td>\n",
       "      <td>0</td>\n",
       "      <td>5044</td>\n",
       "      <td>Drinks were bad, the hot chocolate was watered...</td>\n",
       "      <td>36</td>\n",
       "    </tr>\n",
       "    <tr>\n",
       "      <th>1</th>\n",
       "      <td>1</td>\n",
       "      <td>2014-09-08</td>\n",
       "      <td>0</td>\n",
       "      <td>5045</td>\n",
       "      <td>This was the worst experience I've ever had a ...</td>\n",
       "      <td>248</td>\n",
       "    </tr>\n",
       "    <tr>\n",
       "      <th>2</th>\n",
       "      <td>2</td>\n",
       "      <td>2013-10-06</td>\n",
       "      <td>0</td>\n",
       "      <td>5046</td>\n",
       "      <td>This is located on the site of the old Spruce ...</td>\n",
       "      <td>50</td>\n",
       "    </tr>\n",
       "    <tr>\n",
       "      <th>3</th>\n",
       "      <td>3</td>\n",
       "      <td>2014-11-30</td>\n",
       "      <td>0</td>\n",
       "      <td>5047</td>\n",
       "      <td>I enjoyed coffee and breakfast twice at Toast ...</td>\n",
       "      <td>233</td>\n",
       "    </tr>\n",
       "    <tr>\n",
       "      <th>4</th>\n",
       "      <td>4</td>\n",
       "      <td>2014-08-28</td>\n",
       "      <td>0</td>\n",
       "      <td>5048</td>\n",
       "      <td>I love Toast! The food choices are fantastic -...</td>\n",
       "      <td>152</td>\n",
       "    </tr>\n",
       "  </tbody>\n",
       "</table>\n",
       "</div>"
      ],
      "text/plain": [
       "   Unnamed: 0        date  fakeLabel  productID  \\\n",
       "0           0  2014-11-16          0       5044   \n",
       "1           1  2014-09-08          0       5045   \n",
       "2           2  2013-10-06          0       5046   \n",
       "3           3  2014-11-30          0       5047   \n",
       "4           4  2014-08-28          0       5048   \n",
       "\n",
       "                                          reviewText  wordCount  \n",
       "0  Drinks were bad, the hot chocolate was watered...         36  \n",
       "1  This was the worst experience I've ever had a ...        248  \n",
       "2  This is located on the site of the old Spruce ...         50  \n",
       "3  I enjoyed coffee and breakfast twice at Toast ...        233  \n",
       "4  I love Toast! The food choices are fantastic -...        152  "
      ]
     },
     "execution_count": 4,
     "metadata": {},
     "output_type": "execute_result"
    }
   ],
   "source": [
    "# writing a function to count words in the review text\n",
    "def countWords(row):\n",
    "    return len(list(row['reviewText'].split(\" \")))\n",
    "\n",
    "df['wordCount'] = df.apply(countWords, axis=1)  # applying the function to each row\n",
    "df.head(5)  # Displaying first 5 rows of the dataframe"
   ]
  },
  {
   "cell_type": "code",
   "execution_count": 6,
   "metadata": {},
   "outputs": [
    {
     "data": {
      "image/png": "[encoded data removed]",
      "text/plain": [
       "<matplotlib.figure.Figure at 0x12bebdb38>"
      ]
     },
     "metadata": {},
     "output_type": "display_data"
    }
   ],
   "source": [
    "plt.hist(df['wordCount'], bins=40)  # creating a histogram with 10 bins to visualise the distributon\n",
    "plt.title(\"Distribution of review word count\")  # adding a title\n",
    "plt.xlabel(\"Number of words\")  # adding a x label\n",
    "plt.ylabel(\"Frequency\")  # adding a y label\n",
    "plt.show()"
   ]
  },
  {
   "cell_type": "code",
   "execution_count": null,
   "metadata": {
    "collapsed": true
   },
   "outputs": [],
   "source": []
  }
 ],
 "metadata": {
  "kernelspec": {
   "display_name": "Python 3",
   "language": "python",
   "name": "python3"
  },
  "language_info": {
   "codemirror_mode": {
    "name": "ipython",
    "version": 3
   },
   "file_extension": ".py",
   "mimetype": "text/x-python",
   "name": "python",
   "nbconvert_exporter": "python",
   "pygments_lexer": "ipython3",
   "version": "3.6.3"
  }
 },
 "nbformat": 4,
 "nbformat_minor": 2
}
