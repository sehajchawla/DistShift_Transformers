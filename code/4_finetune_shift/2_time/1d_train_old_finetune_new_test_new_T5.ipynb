{
 "cells": [
  {
   "cell_type": "markdown",
   "metadata": {
    "id": "rkTLZ3I4_7c_"
   },
   "source": [
    "#Fine-tuning T5 from the Huggingface Library Simple Transformers"
   ]
  },
  {
   "cell_type": "markdown",
   "metadata": {
    "id": "z6-qBSMUAaAT"
   },
   "source": [
    "This notebook trains on pre-2014 Yelp data and tests on post-2014 Yelp data."
   ]
  },
  {
   "cell_type": "code",
   "execution_count": null,
   "metadata": {
    "collapsed": true,
    "id": "WXiUiZSSyuo2"
   },
   "outputs": [],
   "source": [
    "!pip install simpletransformers\n",
    "import pandas as pd\n",
    "from simpletransformers.t5 import T5Model\n",
    "from pprint import pprint\n",
    "import logging\n",
    "# Making sure the environment is set up correctly for anyone running this notebook\n",
    "import datetime\n",
    "import json\n",
    "import os\n",
    "import pprint\n",
    "import random\n",
    "import string\n",
    "import sys\n",
    "import tensorflow as tf\n",
    "import datetime as datetime\n",
    "import numpy as np\n",
    "from sklearn.model_selection import StratifiedShuffleSplit\n",
    "import sklearn\n",
    "from google.colab import drive\n",
    "from tensorflow import keras\n",
    "import re"
   ]
  },
  {
   "cell_type": "code",
   "execution_count": null,
   "metadata": {
    "collapsed": true,
    "id": "ToSWFSITLa1G"
   },
   "outputs": [],
   "source": [
    "# Settings\n",
    "pd.set_option('display.max_rows', 500)\n",
    "pd.set_option('display.max_columns', 500)\n",
    "pd.set_option('display.width', 1000)"
   ]
  },
  {
   "cell_type": "markdown",
   "metadata": {
    "id": "EyUjFnlbYbP7"
   },
   "source": [
    "**Getting the Data**"
   ]
  },
  {
   "cell_type": "code",
   "execution_count": null,
   "metadata": {
    "collapsed": true,
    "id": "blEWqoL6aHHP"
   },
   "outputs": [],
   "source": [
    "from google.colab import drive\n",
    "drive.mount(\"/content/drive\")"
   ]
  },
  {
   "cell_type": "markdown",
   "metadata": {
    "id": "pTrusrrLWoNG"
   },
   "source": [
    "**Load data**"
   ]
  },
  {
   "cell_type": "code",
   "execution_count": null,
   "metadata": {
    "collapsed": true,
    "id": "-0rWjkprWnCq"
   },
   "outputs": [],
   "source": [
    "yelp_old_test= pd.read_pickle('/content/drive/My Drive/6862_FakeReviewDetection/data/raw/yelp_old_test.pkl')\n",
    "finetune_new=pd.read_pickle('/content/drive/My Drive/6862_FakeReviewDetection/data/raw/yelp_finetune_new.pkl')\n",
    "yelp_new=pd.read_pickle('/content/drive/My Drive/6862_FakeReviewDetection/data/raw/yelp_new.pkl')"
   ]
  },
  {
   "cell_type": "markdown",
   "metadata": {
    "id": "SYCJgjJwbtQO"
   },
   "source": [
    "**Train the model**"
   ]
  },
  {
   "cell_type": "code",
   "execution_count": null,
   "metadata": {
    "collapsed": true,
    "id": "YzjaNg4CYbQB"
   },
   "outputs": [],
   "source": [
    "# Model arguments. Be careful to set arguments that allow the use of custom metrics.  \n",
    "# https://simpletransformers.ai/docs/t5-model/\n",
    "# We use convention-based defaults for the training batch size, and the number of epochs\n",
    "# Using a small # of epochs has a regularization effect (i.e. balances wanting to fit the training data well, and finding estimates\n",
    "# for parameters that generalize well \n",
    "\n",
    "model_args = {\n",
    "    \"reprocess_input_data\": True,\n",
    "    \"overwrite_output_dir\": True,\n",
    "    \"max_seq_length\": 320, \n",
    "    \"train_batch_size\": 32, #convention is 32; small batch sizes are noisy and offer a regularizing effect; the # of observations in the training dataset must be divisible by the train_batch_size\n",
    "    \"num_train_epochs\": 3,\n",
    "    \"save_eval_checkpoints\": True, \n",
    "    \"save_model_every_epoch\": True,\n",
    "    # \"silent\": True,\n",
    "    \"evaluate_generated_text\": True,\n",
    "    \"evaluate_during_training\": True, \n",
    "    \"evaluate_during_training_verbose\": True, \n",
    "}\n"
   ]
  },
  {
   "cell_type": "code",
   "execution_count": null,
   "metadata": {
    "collapsed": true,
    "id": "g0MTPZ-FYbQD"
   },
   "outputs": [],
   "source": [
    "# Custom metrics function\n",
    "\n",
    "def metrics_fn(l, p):\n",
    "\n",
    "    # Change into integer types \n",
    "    l_int = np.array(l).astype(int)\n",
    "    p_int = np.array(p).astype(int)\n",
    "\n",
    "    eval_accuracy=sklearn.metrics.accuracy_score(l, p)\n",
    "    f1_score =sklearn.metrics.f1_score(l, p, labels=['0', '1'], pos_label = '1')\n",
    "    auc = sklearn.metrics.roc_auc_score(l_int, p_int)\n",
    "    precision = sklearn.metrics.precision_score(l, p, pos_label = '1')\n",
    "    recall = sklearn.metrics.recall_score(l, p, labels=['0', '1'], pos_label = '1')\n",
    "    cm = sklearn.metrics.confusion_matrix(l, p, labels=['0', '1'])\n",
    "    return {'accuracy': eval_accuracy,\n",
    "            'f1_score': f1_score,\n",
    "            'precision': precision,\n",
    "            'recall': recall,\n",
    "            'auc': auc,\n",
    "            'confusion matrix': cm}\n",
    "    #return sum([1 if label == pred else 0 for label, pred in zip(labels, preds)])"
   ]
  },
  {
   "cell_type": "code",
   "execution_count": null,
   "metadata": {
    "collapsed": true,
    "id": "N8xlO8ENeh4G"
   },
   "outputs": [],
   "source": [
    "\n",
    "# Instantiate the model #Hard to get GPU on colab\n",
    "\n",
    "model = T5Model(\"t5\",\"t5-small\", args=model_args, use_cuda = True)\n",
    "# Train the model\n",
    "# Common errors returned:\n",
    "##                         mmap: cannnot allocate memory. In this case, \"Restart runtime\", and \"Run all\".\n",
    "model.train_model(yelp_old_train, output_dir = \"/content/drive/My Drive/6862_FakeReviewDetection/bestmodel_ts\", eval_data=yelp_old_test, metrics = metrics_fn)\n"
   ]
  },
  {
   "cell_type": "markdown",
   "metadata": {
    "id": "8NHY_Y0kuxEA"
   },
   "source": [
    "**Evaluate**"
   ]
  },
  {
   "cell_type": "code",
   "execution_count": null,
   "metadata": {
    "collapsed": true,
    "id": "3OgpNgYL4MRT"
   },
   "outputs": [],
   "source": [
    "# Load model\n",
    "# model = T5Model(\"t5\", \"/content/drive/My Drive/6862_FakeReviewDetection/bestmodel_ts/checkpoint-852-epoch-3\")"
   ]
  },
  {
   "cell_type": "code",
   "execution_count": null,
   "metadata": {
    "collapsed": true,
    "id": "fyzCLdANrmBe"
   },
   "outputs": [],
   "source": [
    "# Print out model metrics on training data\n",
    "'''\n",
    "result_yelp_train = model.eval_model(yelp_old_train, metrics = metrics_fn)\n",
    "out=pd.DataFrame([result_yelp_train['metrics']])\n",
    "out.to_csv(\"/content/drive/My Drive/6862_FakeReviewDetection/bestmodel_ts/m_training.csv\")\n",
    "print(out)\n",
    "'''"
   ]
  },
  {
   "cell_type": "code",
   "execution_count": null,
   "metadata": {
    "collapsed": true,
    "id": "IKkEPTeRHi06"
   },
   "outputs": [],
   "source": [
    "# Print out model metrics on testing data\n",
    "\n",
    "result_yelp_test = model.eval_model(finetune_new, metrics = metrics_fn)\n",
    "out = pd.DataFrame([result_yelp_test['metrics']])\n",
    "out.to_csv(\"/content/drive/My Drive/6862_FakeReviewDetection/bestmodel_ts/m_testing.csv\")\n",
    "print(out)"
   ]
  },
  {
   "cell_type": "code",
   "execution_count": null,
   "metadata": {
    "collapsed": true,
    "id": "sWnnaqPGHjyY"
   },
   "outputs": [],
   "source": [
    "# Print out model metrics on new data\n",
    "result_yelp_new = model.eval_model(yelp_new, metrics = metrics_fn)\n",
    "out=pd.DataFrame([result_yelp_new['metrics']])\n",
    "out.to_csv(\"/content/drive/My Drive/6862_FakeReviewDetection/bestmodel_ts/m_new.csv\")\n",
    "print(out)"
   ]
  }
 ],
 "metadata": {
  "accelerator": "GPU",
  "colab": {
   "collapsed_sections": [],
   "name": "notebook8d_T5_Yelp_acrosstime.ipynb",
   "provenance": [
    {
     "file_id": "1t2v7f5nn3ejjLu-SXqkb1LGuDA0NIHm7",
     "timestamp": 1620206734558
    }
   ]
  },
  "environment": {
   "name": "common-cpu.m65",
   "type": "gcloud",
   "uri": "gcr.io/deeplearning-platform-release/base-cpu:m65"
  },
  "kernelspec": {
   "display_name": "Python 3",
   "language": "python",
   "name": "python3"
  },
  "language_info": {
   "codemirror_mode": {
    "name": "ipython",
    "version": 3
   },
   "file_extension": ".py",
   "mimetype": "text/x-python",
   "name": "python",
   "nbconvert_exporter": "python",
   "pygments_lexer": "ipython3",
   "version": "3.6.3"
  }
 },
 "nbformat": 4,
 "nbformat_minor": 1
}
